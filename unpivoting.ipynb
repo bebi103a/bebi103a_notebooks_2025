{
 "cells": [
  {
   "cell_type": "markdown",
   "metadata": {},
   "source": [
    "# Making a data frame tall\n",
    "\n",
    "[Data set download](https://s3.amazonaws.com/bebi103.caltech.edu/data/Reeves2012_data.xlsx)\n",
    "\n",
    "<hr/>"
   ]
  },
  {
   "cell_type": "code",
   "execution_count": 1,
   "metadata": {
    "nbsphinx": "hide",
    "tags": []
   },
   "outputs": [],
   "source": [
    "#| code-fold: true\n",
    "\n",
    "# Colab setup ------------------\n",
    "import os, sys, subprocess\n",
    "if \"google.colab\" in sys.modules:\n",
    "    cmd = \"pip install --upgrade polars iqplot watermark\"\n",
    "    process = subprocess.Popen(cmd.split(), stdout=subprocess.PIPE, stderr=subprocess.PIPE)\n",
    "    stdout, stderr = process.communicate()\n",
    "    data_path = \"https://s3.amazonaws.com/bebi103.caltech.edu/data/\"\n",
    "else:\n",
    "    data_path = \"../data/\""
   ]
  },
  {
   "cell_type": "code",
   "execution_count": 2,
   "metadata": {},
   "outputs": [
    {
     "data": {
      "text/html": [
       "    <style>\n",
       "        .bk-notebook-logo {\n",
       "            display: block;\n",
       "            width: 20px;\n",
       "            height: 20px;\n",
       "            background-image: url(data:image/png;base64,iVBORw0KGgoAAAANSUhEUgAAABQAAAAUCAYAAACNiR0NAAAABHNCSVQICAgIfAhkiAAAAAlwSFlzAAALEgAACxIB0t1+/AAAABx0RVh0U29mdHdhcmUAQWRvYmUgRmlyZXdvcmtzIENTNui8sowAAAOkSURBVDiNjZRtaJVlGMd/1/08zzln5zjP1LWcU9N0NkN8m2CYjpgQYQXqSs0I84OLIC0hkEKoPtiH3gmKoiJDU7QpLgoLjLIQCpEsNJ1vqUOdO7ppbuec5+V+rj4ctwzd8IIbbi6u+8f1539dt3A78eXC7QizUF7gyV1fD1Yqg4JWz84yffhm0qkFqBogB9rM8tZdtwVsPUhWhGcFJngGeWrPzHm5oaMmkfEg1usvLFyc8jLRqDOMru7AyC8saQr7GG7f5fvDeH7Ej8CM66nIF+8yngt6HWaKh7k49Soy9nXurCi1o3qUbS3zWfrYeQDTB/Qj6kX6Ybhw4B+bOYoLKCC9H3Nu/leUTZ1JdRWkkn2ldcCamzrcf47KKXdAJllSlxAOkRgyHsGC/zRday5Qld9DyoM4/q/rUoy/CXh3jzOu3bHUVZeU+DEn8FInkPBFlu3+nW3Nw0mk6vCDiWg8CeJaxEwuHS3+z5RgY+YBR6V1Z1nxSOfoaPa4LASWxxdNp+VWTk7+4vzaou8v8PN+xo+KY2xsw6une2frhw05CTYOmQvsEhjhWjn0bmXPjpE1+kplmmkP3suftwTubK9Vq22qKmrBhpY4jvd5afdRA3wGjFAgcnTK2s4hY0/GPNIb0nErGMCRxWOOX64Z8RAC4oCXdklmEvcL8o0BfkNK4lUg9HTl+oPlQxdNo3Mg4Nv175e/1LDGzZen30MEjRUtmXSfiTVu1kK8W4txyV6BMKlbgk3lMwYCiusNy9fVfvvwMxv8Ynl6vxoByANLTWplvuj/nF9m2+PDtt1eiHPBr1oIfhCChQMBw6Aw0UulqTKZdfVvfG7VcfIqLG9bcldL/+pdWTLxLUy8Qq38heUIjh4XlzZxzQm19lLFlr8vdQ97rjZVOLf8nclzckbcD4wxXMidpX30sFd37Fv/GtwwhzhxGVAprjbg0gCAEeIgwCZyTV2Z1REEW8O4py0wsjeloKoMr6iCY6dP92H6Vw/oTyICIthibxjm/DfN9lVz8IqtqKYLUXfoKVMVQVVJOElGjrnnUt9T9wbgp8AyYKaGlqingHZU/uG2NTZSVqwHQTWkx9hxjkpWDaCg6Ckj5qebgBVbT3V3NNXMSiWSDdGV3hrtzla7J+duwPOToIg42ChPQOQjspnSlp1V+Gjdged7+8UN5CRAV7a5EdFNwCjEaBR27b3W890TE7g24NAP/mMDXRWrGoFPQI9ls/MWO2dWFAar/xcOIImbbpA3zgAAAABJRU5ErkJggg==);\n",
       "        }\n",
       "    </style>\n",
       "    <div>\n",
       "        <a href=\"https://bokeh.org\" target=\"_blank\" class=\"bk-notebook-logo\"></a>\n",
       "        <span id=\"c87cca68-57c0-4cdb-bbe1-b5a1b74c142c\">Loading BokehJS ...</span>\n",
       "    </div>\n"
      ]
     },
     "metadata": {},
     "output_type": "display_data"
    },
    {
     "data": {
      "application/javascript": "'use strict';\n(function(root) {\n  function now() {\n    return new Date();\n  }\n\n  const force = true;\n\n  if (typeof root._bokeh_onload_callbacks === \"undefined\" || force === true) {\n    root._bokeh_onload_callbacks = [];\n    root._bokeh_is_loading = undefined;\n  }\n\nconst JS_MIME_TYPE = 'application/javascript';\n  const HTML_MIME_TYPE = 'text/html';\n  const EXEC_MIME_TYPE = 'application/vnd.bokehjs_exec.v0+json';\n  const CLASS_NAME = 'output_bokeh rendered_html';\n\n  /**\n   * Render data to the DOM node\n   */\n  function render(props, node) {\n    const script = document.createElement(\"script\");\n    node.appendChild(script);\n  }\n\n  /**\n   * Handle when an output is cleared or removed\n   */\n  function handleClearOutput(event, handle) {\n    function drop(id) {\n      const view = Bokeh.index.get_by_id(id)\n      if (view != null) {\n        view.model.document.clear()\n        Bokeh.index.delete(view)\n      }\n    }\n\n    const cell = handle.cell;\n\n    const id = cell.output_area._bokeh_element_id;\n    const server_id = cell.output_area._bokeh_server_id;\n\n    // Clean up Bokeh references\n    if (id != null) {\n      drop(id)\n    }\n\n    if (server_id !== undefined) {\n      // Clean up Bokeh references\n      const cmd_clean = \"from bokeh.io.state import curstate; print(curstate().uuid_to_server['\" + server_id + \"'].get_sessions()[0].document.roots[0]._id)\";\n      cell.notebook.kernel.execute(cmd_clean, {\n        iopub: {\n          output: function(msg) {\n            const id = msg.content.text.trim()\n            drop(id)\n          }\n        }\n      });\n      // Destroy server and session\n      const cmd_destroy = \"import bokeh.io.notebook as ion; ion.destroy_server('\" + server_id + \"')\";\n      cell.notebook.kernel.execute(cmd_destroy);\n    }\n  }\n\n  /**\n   * Handle when a new output is added\n   */\n  function handleAddOutput(event, handle) {\n    const output_area = handle.output_area;\n    const output = handle.output;\n\n    // limit handleAddOutput to display_data with EXEC_MIME_TYPE content only\n    if ((output.output_type != \"display_data\") || (!Object.prototype.hasOwnProperty.call(output.data, EXEC_MIME_TYPE))) {\n      return\n    }\n\n    const toinsert = output_area.element.find(\".\" + CLASS_NAME.split(' ')[0]);\n\n    if (output.metadata[EXEC_MIME_TYPE][\"id\"] !== undefined) {\n      toinsert[toinsert.length - 1].firstChild.textContent = output.data[JS_MIME_TYPE];\n      // store reference to embed id on output_area\n      output_area._bokeh_element_id = output.metadata[EXEC_MIME_TYPE][\"id\"];\n    }\n    if (output.metadata[EXEC_MIME_TYPE][\"server_id\"] !== undefined) {\n      const bk_div = document.createElement(\"div\");\n      bk_div.innerHTML = output.data[HTML_MIME_TYPE];\n      const script_attrs = bk_div.children[0].attributes;\n      for (let i = 0; i < script_attrs.length; i++) {\n        toinsert[toinsert.length - 1].firstChild.setAttribute(script_attrs[i].name, script_attrs[i].value);\n        toinsert[toinsert.length - 1].firstChild.textContent = bk_div.children[0].textContent\n      }\n      // store reference to server id on output_area\n      output_area._bokeh_server_id = output.metadata[EXEC_MIME_TYPE][\"server_id\"];\n    }\n  }\n\n  function register_renderer(events, OutputArea) {\n\n    function append_mime(data, metadata, element) {\n      // create a DOM node to render to\n      const toinsert = this.create_output_subarea(\n        metadata,\n        CLASS_NAME,\n        EXEC_MIME_TYPE\n      );\n      this.keyboard_manager.register_events(toinsert);\n      // Render to node\n      const props = {data: data, metadata: metadata[EXEC_MIME_TYPE]};\n      render(props, toinsert[toinsert.length - 1]);\n      element.append(toinsert);\n      return toinsert\n    }\n\n    /* Handle when an output is cleared or removed */\n    events.on('clear_output.CodeCell', handleClearOutput);\n    events.on('delete.Cell', handleClearOutput);\n\n    /* Handle when a new output is added */\n    events.on('output_added.OutputArea', handleAddOutput);\n\n    /**\n     * Register the mime type and append_mime function with output_area\n     */\n    OutputArea.prototype.register_mime_type(EXEC_MIME_TYPE, append_mime, {\n      /* Is output safe? */\n      safe: true,\n      /* Index of renderer in `output_area.display_order` */\n      index: 0\n    });\n  }\n\n  // register the mime type if in Jupyter Notebook environment and previously unregistered\n  if (root.Jupyter !== undefined) {\n    const events = require('base/js/events');\n    const OutputArea = require('notebook/js/outputarea').OutputArea;\n\n    if (OutputArea.prototype.mime_types().indexOf(EXEC_MIME_TYPE) == -1) {\n      register_renderer(events, OutputArea);\n    }\n  }\n  if (typeof (root._bokeh_timeout) === \"undefined\" || force === true) {\n    root._bokeh_timeout = Date.now() + 5000;\n    root._bokeh_failed_load = false;\n  }\n\n  const NB_LOAD_WARNING = {'data': {'text/html':\n     \"<div style='background-color: #fdd'>\\n\"+\n     \"<p>\\n\"+\n     \"BokehJS does not appear to have successfully loaded. If loading BokehJS from CDN, this \\n\"+\n     \"may be due to a slow or bad network connection. Possible fixes:\\n\"+\n     \"</p>\\n\"+\n     \"<ul>\\n\"+\n     \"<li>re-rerun `output_notebook()` to attempt to load from CDN again, or</li>\\n\"+\n     \"<li>use INLINE resources instead, as so:</li>\\n\"+\n     \"</ul>\\n\"+\n     \"<code>\\n\"+\n     \"from bokeh.resources import INLINE\\n\"+\n     \"output_notebook(resources=INLINE)\\n\"+\n     \"</code>\\n\"+\n     \"</div>\"}};\n\n  function display_loaded(error = null) {\n    const el = document.getElementById(\"c87cca68-57c0-4cdb-bbe1-b5a1b74c142c\");\n    if (el != null) {\n      const html = (() => {\n        if (typeof root.Bokeh === \"undefined\") {\n          if (error == null) {\n            return \"BokehJS is loading ...\";\n          } else {\n            return \"BokehJS failed to load.\";\n          }\n        } else {\n          const prefix = `BokehJS ${root.Bokeh.version}`;\n          if (error == null) {\n            return `${prefix} successfully loaded.`;\n          } else {\n            return `${prefix} <b>encountered errors</b> while loading and may not function as expected.`;\n          }\n        }\n      })();\n      el.innerHTML = html;\n\n      if (error != null) {\n        const wrapper = document.createElement(\"div\");\n        wrapper.style.overflow = \"auto\";\n        wrapper.style.height = \"5em\";\n        wrapper.style.resize = \"vertical\";\n        const content = document.createElement(\"div\");\n        content.style.fontFamily = \"monospace\";\n        content.style.whiteSpace = \"pre-wrap\";\n        content.style.backgroundColor = \"rgb(255, 221, 221)\";\n        content.textContent = error.stack ?? error.toString();\n        wrapper.append(content);\n        el.append(wrapper);\n      }\n    } else if (Date.now() < root._bokeh_timeout) {\n      setTimeout(() => display_loaded(error), 100);\n    }\n  }\n\n  function run_callbacks() {\n    try {\n      root._bokeh_onload_callbacks.forEach(function(callback) {\n        if (callback != null)\n          callback();\n      });\n    } finally {\n      delete root._bokeh_onload_callbacks\n    }\n    console.debug(\"Bokeh: all callbacks have finished\");\n  }\n\n  function load_libs(css_urls, js_urls, callback) {\n    if (css_urls == null) css_urls = [];\n    if (js_urls == null) js_urls = [];\n\n    root._bokeh_onload_callbacks.push(callback);\n    if (root._bokeh_is_loading > 0) {\n      console.debug(\"Bokeh: BokehJS is being loaded, scheduling callback at\", now());\n      return null;\n    }\n    if (js_urls == null || js_urls.length === 0) {\n      run_callbacks();\n      return null;\n    }\n    console.debug(\"Bokeh: BokehJS not loaded, scheduling load and callback at\", now());\n    root._bokeh_is_loading = css_urls.length + js_urls.length;\n\n    function on_load() {\n      root._bokeh_is_loading--;\n      if (root._bokeh_is_loading === 0) {\n        console.debug(\"Bokeh: all BokehJS libraries/stylesheets loaded\");\n        run_callbacks()\n      }\n    }\n\n    function on_error(url) {\n      console.error(\"failed to load \" + url);\n    }\n\n    for (let i = 0; i < css_urls.length; i++) {\n      const url = css_urls[i];\n      const element = document.createElement(\"link\");\n      element.onload = on_load;\n      element.onerror = on_error.bind(null, url);\n      element.rel = \"stylesheet\";\n      element.type = \"text/css\";\n      element.href = url;\n      console.debug(\"Bokeh: injecting link tag for BokehJS stylesheet: \", url);\n      document.body.appendChild(element);\n    }\n\n    for (let i = 0; i < js_urls.length; i++) {\n      const url = js_urls[i];\n      const element = document.createElement('script');\n      element.onload = on_load;\n      element.onerror = on_error.bind(null, url);\n      element.async = false;\n      element.src = url;\n      console.debug(\"Bokeh: injecting script tag for BokehJS library: \", url);\n      document.head.appendChild(element);\n    }\n  };\n\n  function inject_raw_css(css) {\n    const element = document.createElement(\"style\");\n    element.appendChild(document.createTextNode(css));\n    document.body.appendChild(element);\n  }\n\n  const js_urls = [\"https://cdn.bokeh.org/bokeh/release/bokeh-3.8.0.min.js\", \"https://cdn.bokeh.org/bokeh/release/bokeh-gl-3.8.0.min.js\", \"https://cdn.bokeh.org/bokeh/release/bokeh-widgets-3.8.0.min.js\", \"https://cdn.bokeh.org/bokeh/release/bokeh-tables-3.8.0.min.js\", \"https://cdn.bokeh.org/bokeh/release/bokeh-mathjax-3.8.0.min.js\"];\n  const css_urls = [];\n\n  const inline_js = [    function(Bokeh) {\n      Bokeh.set_log_level(\"info\");\n    },\nfunction(Bokeh) {\n    }\n  ];\n\n  function run_inline_js() {\n    if (root.Bokeh !== undefined || force === true) {\n      try {\n            for (let i = 0; i < inline_js.length; i++) {\n      inline_js[i].call(root, root.Bokeh);\n    }\n\n      } catch (error) {display_loaded(error);throw error;\n      }if (force === true) {\n        display_loaded();\n      }} else if (Date.now() < root._bokeh_timeout) {\n      setTimeout(run_inline_js, 100);\n    } else if (!root._bokeh_failed_load) {\n      console.log(\"Bokeh: BokehJS failed to load within specified timeout.\");\n      root._bokeh_failed_load = true;\n    } else if (force !== true) {\n      const cell = $(document.getElementById(\"c87cca68-57c0-4cdb-bbe1-b5a1b74c142c\")).parents('.cell').data().cell;\n      cell.output_area.append_execute_result(NB_LOAD_WARNING)\n    }\n  }\n\n  if (root._bokeh_is_loading === 0) {\n    console.debug(\"Bokeh: BokehJS loaded, going straight to plotting\");\n    run_inline_js();\n  } else {\n    load_libs(css_urls, js_urls, function() {\n      console.debug(\"Bokeh: BokehJS plotting callback run at\", now());\n      run_inline_js();\n    });\n  }\n}(window));",
      "application/vnd.bokehjs_load.v0+json": ""
     },
     "metadata": {},
     "output_type": "display_data"
    }
   ],
   "source": [
    "import numpy as np\n",
    "import polars as pl\n",
    "\n",
    "import iqplot\n",
    "\n",
    "import bokeh.io\n",
    "bokeh.io.output_notebook()"
   ]
  },
  {
   "cell_type": "markdown",
   "metadata": {},
   "source": [
    "<hr />\n",
    "\n",
    "In this part of the lesson, we will perform some wrangling on a data set that involves:\n",
    "\n",
    "- Using Polars's `read_excel()` function to read in data from an MS Excel spreadsheet\n",
    "- Parsing column names to extract useful metadata en route to tidy data\n",
    "- Performing an unpivot operation to efficiently tidy a data set."
   ]
  },
  {
   "cell_type": "markdown",
   "metadata": {},
   "source": [
    "## The data set\n",
    "\n",
    "We will use a data set from [Angela Stathopoulos's lab](http://www.stathlab.caltech.edu), acquired to study morphogen profiles in developing fruit fly embryos. The original paper is [Reeves, Trisnadi, et al., Dorsal-ventral gene expression\n",
    "in the *Drosophila* embryo reflects the dynamics and precision of the Dorsal nuclear gradient, *Dev. Cell.*, **22**, 544-557, 2012](https://doi.org/10.1016/j.devcel.2011.12.007), and the data set may be downloaded here: [https://s3.amazonaws.com/bebi103.caltech.edu/data/Reeves2012_data.xlsx](https://s3.amazonaws.com/bebi103.caltech.edu/data/Reeves2012_data.xlsx).\n",
    "\n",
    "In this experiment, Reeves, Trisnadi, and coworkers measured expression levels of a fusion of Dorsal, a morphogen transcription factor important in determining the dorsal-ventral axis of the developing organism, and Venus, a yellow fluorescent protein along the dorsal/ventral– (DV) coordinate. They put this construct on the third chromosome, while wild type *dorsal* is on the second. Instead of the wild type, they had a homozygous *dorsal*-null mutant on the second chromosome. The Dorsal-Venus construct rescues wild type behavior, so they could use this construct to study Dorsal gradients.\n",
    "\n",
    "Dorsal shows higher expression on the ventral side of the organism, thus giving a *gradient* in expression from dorsal to ventral which can be ascertained by the spatial distribution of Venus fluorescence intensity.\n",
    "\n",
    "This can be seen in the image below, which is a cross-section of a fixed embryo with anti-Dorsal staining. The bottom of the image is the ventral side and the top is the dorsal side of the embryo. The DV coordinate system is defined by the yellow line. The image is adapted from the Reeves, Trisnadi, et al. paper.\n",
    "\n",
    "\n",
    "![Fluorescently labeled Dorsal in a cross-section of a *Drosophila* embryo. Adapted from Reeves, Trisnadi, et al., *Dev. Cell.*, 2012.](DV_coord.png){width=50% fig-align=\"center\" fig-alt=\"Image of a Dorsal gradient\" }\n",
    "\n",
    "*A quick note on nomenclature:* Dorsal (capital D) is the name of the protein product of the gene *dorsal* (italicized). The dorsal (adjective) side of the embryo is its back. The ventral side is its belly. Dorsal is expressed more strongly on the _ventral side_ of the developing embryo. This can be confusing.\n",
    "\n",
    "To quantify the gradient, Reeves, Trisnadi, and coworkers had to first choose a metric for describing it. They chose to fit the measured profile of fluorescence intensity with a Gaussian peak (plus background) and use the standard deviation of that Gaussian as a metric for the width of the Dorsal gradient.\n",
    "\n",
    "In this lesson, we will use the gradient widths as outputted from this procedure. The units of the widths are dimensionless, consistent with the coordinate system shown in the image above. I asked one of the authors for the data sets used in making the figures. She sent me a MS Excel file that had a separate sheet for each of several figures in the paper that I asked about. We will focus on the data used for Fig. 1F of the paper. In this figure, the authors seek to demonstrate that live imaging with their Venus-Dorsal construct gives a Dorsal gradient of similar width as would be obtained by fixing wild type cells and doing Dorsal antibody staining (the gold standard). These wild type embryos were analyzed as whole mounts and also as cross-sections. They also tried anti-Dorsal staining and anti-Venus staining in the Venus-Dorsal construct. Finally, they also measured gradient widths of a GFP-Dorsal construct that fails to complete development."
   ]
  },
  {
   "cell_type": "markdown",
   "metadata": {},
   "source": [
    "## Loading in an Excel sheet\n",
    "\n",
    "Generally, you should store your data sets in portable formats, like CSV, JSON, XML, HDF5, OME-TIFF, etc., and not proprietary formats. Nonetheless, software like Microsoft Excel is widely used, and you will often receive data sets in this format. Fortunately, Polars can read Excel files, provided they are from fairly recent versions of Excel.\n",
    "\n",
    "To read in this data set, we will use `pl.read_excel()`. Importantly, because an Excel document may have many sheets, we need to specify the sheet name we want, in this case `'Fig 1F'`."
   ]
  },
  {
   "cell_type": "code",
   "execution_count": 3,
   "metadata": {},
   "outputs": [
    {
     "data": {
      "text/html": [
       "<div><style>\n",
       ".dataframe > thead > tr,\n",
       ".dataframe > tbody > tr {\n",
       "  text-align: right;\n",
       "  white-space: pre-wrap;\n",
       "}\n",
       "</style>\n",
       "<small>shape: (5, 8)</small><table border=\"1\" class=\"dataframe\"><thead><tr><th>wt wholemounts</th><th>wt cross-sections</th><th>anti-Dorsal dl1/+dl-venus/+</th><th>anti-gfp dl1/+dl-venus/+</th><th>Venus (live)  dl1/+dl-venus/+</th><th>anti-Dorsal  dl1/+dl-GFP/+</th><th>anti-gfp  dl1/+dl-GFP/+ </th><th>GFP (live)  dl1/+dl-GFP/+</th></tr><tr><td>f64</td><td>f64</td><td>f64</td><td>f64</td><td>f64</td><td>f64</td><td>f64</td><td>f64</td></tr></thead><tbody><tr><td>0.1288</td><td>0.1327</td><td>0.1482</td><td>0.1632</td><td>0.1666</td><td>0.2248</td><td>0.2389</td><td>0.2412</td></tr><tr><td>0.1554</td><td>0.1457</td><td>0.1503</td><td>0.1671</td><td>0.1753</td><td>0.1891</td><td>0.2035</td><td>0.1942</td></tr><tr><td>0.1306</td><td>0.1447</td><td>0.1577</td><td>0.1704</td><td>0.1705</td><td>0.1705</td><td>0.1943</td><td>0.2186</td></tr><tr><td>0.1413</td><td>0.1282</td><td>0.1711</td><td>0.1779</td><td>null</td><td>0.1735</td><td>0.2</td><td>0.2104</td></tr><tr><td>0.1557</td><td>0.1487</td><td>0.1342</td><td>0.1483</td><td>null</td><td>0.2135</td><td>0.256</td><td>0.2463</td></tr></tbody></table></div>"
      ],
      "text/plain": [
       "shape: (5, 8)\n",
       "┌────────────┬────────────┬────────────┬───────────┬───────────┬───────────┬───────────┬───────────┐\n",
       "│ wt wholemo ┆ wt cross-s ┆ anti-Dorsa ┆ anti-gfp  ┆ Venus     ┆ anti-Dors ┆ anti-gfp  ┆ GFP       │\n",
       "│ unts       ┆ ections    ┆ l dl1/+dl- ┆ dl1/+dl-v ┆ (live)    ┆ al  dl1/+ ┆ dl1/+dl-G ┆ (live)    │\n",
       "│ ---        ┆ ---        ┆ venus/+    ┆ enus/+    ┆ dl1/+dl-v ┆ dl-GFP/+  ┆ FP/+      ┆ dl1/+dl-G │\n",
       "│ f64        ┆ f64        ┆ ---        ┆ ---       ┆ enus/+    ┆ ---       ┆ ---       ┆ FP/+      │\n",
       "│            ┆            ┆ f64        ┆ f64       ┆ ---       ┆ f64       ┆ f64       ┆ ---       │\n",
       "│            ┆            ┆            ┆           ┆ f64       ┆           ┆           ┆ f64       │\n",
       "╞════════════╪════════════╪════════════╪═══════════╪═══════════╪═══════════╪═══════════╪═══════════╡\n",
       "│ 0.1288     ┆ 0.1327     ┆ 0.1482     ┆ 0.1632    ┆ 0.1666    ┆ 0.2248    ┆ 0.2389    ┆ 0.2412    │\n",
       "│ 0.1554     ┆ 0.1457     ┆ 0.1503     ┆ 0.1671    ┆ 0.1753    ┆ 0.1891    ┆ 0.2035    ┆ 0.1942    │\n",
       "│ 0.1306     ┆ 0.1447     ┆ 0.1577     ┆ 0.1704    ┆ 0.1705    ┆ 0.1705    ┆ 0.1943    ┆ 0.2186    │\n",
       "│ 0.1413     ┆ 0.1282     ┆ 0.1711     ┆ 0.1779    ┆ null      ┆ 0.1735    ┆ 0.2       ┆ 0.2104    │\n",
       "│ 0.1557     ┆ 0.1487     ┆ 0.1342     ┆ 0.1483    ┆ null      ┆ 0.2135    ┆ 0.256     ┆ 0.2463    │\n",
       "└────────────┴────────────┴────────────┴───────────┴───────────┴───────────┴───────────┴───────────┘"
      ]
     },
     "execution_count": 3,
     "metadata": {},
     "output_type": "execute_result"
    }
   ],
   "source": [
    "df = pl.read_excel(os.path.join(data_path, \"Reeves2012_data.xlsx\"), sheet_name=\"Fig 1F\")\n",
    "\n",
    "df.head()"
   ]
  },
  {
   "cell_type": "markdown",
   "metadata": {},
   "source": [
    "The data frame is not tidy. Each *entry* corresponds to one observation, not each row. The column headings contain important metadata, the genotype (wt, dl1/+dl-venus/+, or dl1/+dl-GFP/+) and the method (wholemounts, cross-sections, anti-Dorsal, anti-gfp, Venus (live), and GFP (live)). \n",
    "\n",
    "The data set has other issues we need to clean up. The column `'anti-gfp dl1/+dl-venus/+'` is mislabeled; it should be `'anti-Venus dl1/+dl-venus/+'`. We would also like to clean up the genotypes, putting in a semicolon to separate the chromosomes. The wild type columns have the genotype first (`'wt'`) followed by the method, whereas the other columns have the method first, followed by genotype."
   ]
  },
  {
   "cell_type": "markdown",
   "metadata": {},
   "source": [
    "## Parsing the column names\n",
    "\n",
    "We will start our process of tidying this data set by changing the column names. They are pretty messy, so this is best done by hand in this case. We will rename the columns with strings where the genotype comes first, followed by the method for measuring the gradient width, separated by an underscore."
   ]
  },
  {
   "cell_type": "code",
   "execution_count": 4,
   "metadata": {},
   "outputs": [
    {
     "data": {
      "text/html": [
       "<div><style>\n",
       ".dataframe > thead > tr,\n",
       ".dataframe > tbody > tr {\n",
       "  text-align: right;\n",
       "  white-space: pre-wrap;\n",
       "}\n",
       "</style>\n",
       "<small>shape: (5, 8)</small><table border=\"1\" class=\"dataframe\"><thead><tr><th>WT_whole mount</th><th>WT_cross-section</th><th>dl1/+ ; dl-venus/+_anti-Dorsal</th><th>dl1/+ ; dl-venus/+_anti-Venus</th><th>dl1/+ ; dl-venus/+_Venus (live)</th><th>dl1/+ ; dl-gfp/+_anti-Dorsal</th><th>dl1/+ ; dl-gfp/+_anti-GFP</th><th>dl1/+ ; dl-gfp/+_GFP (live)</th></tr><tr><td>f64</td><td>f64</td><td>f64</td><td>f64</td><td>f64</td><td>f64</td><td>f64</td><td>f64</td></tr></thead><tbody><tr><td>0.1288</td><td>0.1327</td><td>0.1482</td><td>0.1632</td><td>0.1666</td><td>0.2248</td><td>0.2389</td><td>0.2412</td></tr><tr><td>0.1554</td><td>0.1457</td><td>0.1503</td><td>0.1671</td><td>0.1753</td><td>0.1891</td><td>0.2035</td><td>0.1942</td></tr><tr><td>0.1306</td><td>0.1447</td><td>0.1577</td><td>0.1704</td><td>0.1705</td><td>0.1705</td><td>0.1943</td><td>0.2186</td></tr><tr><td>0.1413</td><td>0.1282</td><td>0.1711</td><td>0.1779</td><td>null</td><td>0.1735</td><td>0.2</td><td>0.2104</td></tr><tr><td>0.1557</td><td>0.1487</td><td>0.1342</td><td>0.1483</td><td>null</td><td>0.2135</td><td>0.256</td><td>0.2463</td></tr></tbody></table></div>"
      ],
      "text/plain": [
       "shape: (5, 8)\n",
       "┌────────────┬────────────┬────────────┬───────────┬───────────┬───────────┬───────────┬───────────┐\n",
       "│ WT_whole   ┆ WT_cross-s ┆ dl1/+ ;    ┆ dl1/+ ;   ┆ dl1/+ ;   ┆ dl1/+ ;   ┆ dl1/+ ;   ┆ dl1/+ ;   │\n",
       "│ mount      ┆ ection     ┆ dl-venus/+ ┆ dl-venus/ ┆ dl-venus/ ┆ dl-gfp/+_ ┆ dl-gfp/+_ ┆ dl-gfp/+_ │\n",
       "│ ---        ┆ ---        ┆ _anti-Dors ┆ +_anti-Ve ┆ +_Venus   ┆ anti-Dors ┆ anti-GFP  ┆ GFP       │\n",
       "│ f64        ┆ f64        ┆ al         ┆ nus       ┆ (live…    ┆ al        ┆ ---       ┆ (live)    │\n",
       "│            ┆            ┆ ---        ┆ ---       ┆ ---       ┆ ---       ┆ f64       ┆ ---       │\n",
       "│            ┆            ┆ f64        ┆ f64       ┆ f64       ┆ f64       ┆           ┆ f64       │\n",
       "╞════════════╪════════════╪════════════╪═══════════╪═══════════╪═══════════╪═══════════╪═══════════╡\n",
       "│ 0.1288     ┆ 0.1327     ┆ 0.1482     ┆ 0.1632    ┆ 0.1666    ┆ 0.2248    ┆ 0.2389    ┆ 0.2412    │\n",
       "│ 0.1554     ┆ 0.1457     ┆ 0.1503     ┆ 0.1671    ┆ 0.1753    ┆ 0.1891    ┆ 0.2035    ┆ 0.1942    │\n",
       "│ 0.1306     ┆ 0.1447     ┆ 0.1577     ┆ 0.1704    ┆ 0.1705    ┆ 0.1705    ┆ 0.1943    ┆ 0.2186    │\n",
       "│ 0.1413     ┆ 0.1282     ┆ 0.1711     ┆ 0.1779    ┆ null      ┆ 0.1735    ┆ 0.2       ┆ 0.2104    │\n",
       "│ 0.1557     ┆ 0.1487     ┆ 0.1342     ┆ 0.1483    ┆ null      ┆ 0.2135    ┆ 0.256     ┆ 0.2463    │\n",
       "└────────────┴────────────┴────────────┴───────────┴───────────┴───────────┴───────────┴───────────┘"
      ]
     },
     "execution_count": 4,
     "metadata": {},
     "output_type": "execute_result"
    }
   ],
   "source": [
    "col_names = {\n",
    "    'wt wholemounts': 'WT_whole mount',\n",
    "    'wt cross-sections': 'WT_cross-section',\n",
    "    'anti-Dorsal dl1/+dl-venus/+': 'dl1/+ ; dl-venus/+_anti-Dorsal',\n",
    "    'anti-gfp dl1/+dl-venus/+': 'dl1/+ ; dl-venus/+_anti-Venus',\n",
    "    'Venus (live)  dl1/+dl-venus/+': 'dl1/+ ; dl-venus/+_Venus (live)',\n",
    "    'anti-Dorsal  dl1/+dl-GFP/+': 'dl1/+ ; dl-gfp/+_anti-Dorsal',\n",
    "    'anti-gfp  dl1/+dl-GFP/+ ': 'dl1/+ ; dl-gfp/+_anti-GFP',\n",
    "    'GFP (live)  dl1/+dl-GFP/+': 'dl1/+ ; dl-gfp/+_GFP (live)'\n",
    "}\n",
    "\n",
    "df = df.rename(col_names)\n",
    "\n",
    "df.head()"
   ]
  },
  {
   "cell_type": "markdown",
   "metadata": {},
   "source": [
    "## Unpivot the data frame\n",
    "\n",
    "When we **unpivot** the data frame, the data within it, called **values**, become a single column. The column names, called **variables** also populate a new column. So, to unpivot it, we need to specify what we want to call the values and what we want to call the variable. The `unpivot()` method does the rest!"
   ]
  },
  {
   "cell_type": "code",
   "execution_count": 5,
   "metadata": {},
   "outputs": [
    {
     "data": {
      "text/html": [
       "<div><style>\n",
       ".dataframe > thead > tr,\n",
       ".dataframe > tbody > tr {\n",
       "  text-align: right;\n",
       "  white-space: pre-wrap;\n",
       "}\n",
       "</style>\n",
       "<small>shape: (5, 2)</small><table border=\"1\" class=\"dataframe\"><thead><tr><th>genotype_method</th><th>gradient width</th></tr><tr><td>str</td><td>f64</td></tr></thead><tbody><tr><td>&quot;WT_whole mount&quot;</td><td>0.1288</td></tr><tr><td>&quot;WT_whole mount&quot;</td><td>0.1554</td></tr><tr><td>&quot;WT_whole mount&quot;</td><td>0.1306</td></tr><tr><td>&quot;WT_whole mount&quot;</td><td>0.1413</td></tr><tr><td>&quot;WT_whole mount&quot;</td><td>0.1557</td></tr></tbody></table></div>"
      ],
      "text/plain": [
       "shape: (5, 2)\n",
       "┌─────────────────┬────────────────┐\n",
       "│ genotype_method ┆ gradient width │\n",
       "│ ---             ┆ ---            │\n",
       "│ str             ┆ f64            │\n",
       "╞═════════════════╪════════════════╡\n",
       "│ WT_whole mount  ┆ 0.1288         │\n",
       "│ WT_whole mount  ┆ 0.1554         │\n",
       "│ WT_whole mount  ┆ 0.1306         │\n",
       "│ WT_whole mount  ┆ 0.1413         │\n",
       "│ WT_whole mount  ┆ 0.1557         │\n",
       "└─────────────────┴────────────────┘"
      ]
     },
     "execution_count": 5,
     "metadata": {},
     "output_type": "execute_result"
    }
   ],
   "source": [
    "df = df.unpivot(\n",
    "    variable_name='genotype_method', \n",
    "    value_name='gradient width'\n",
    ").drop_nulls()\n",
    "\n",
    "# Take a look\n",
    "df.head()"
   ]
  },
  {
   "cell_type": "markdown",
   "metadata": {},
   "source": [
    "Nice! We now have a tidy data frame. Note that we also dropped the null values, since the nulls from the original columns come along for the ride when unpivoting.\n",
    "\n",
    "Note that `df.unpivot()` has other options. For example, you can specify columns that do not comprise data, but should still be included in the unpivoted data frame using the `id_vars` keyword argument. That does not apply to this data frame, but comes up often. As a final comment, note that unpivoting is sometimes called **melting**, as it is when using Pandas."
   ]
  },
  {
   "cell_type": "markdown",
   "metadata": {},
   "source": [
    "## Splitting the genotype_method column\n",
    "\n",
    "Now our goal is to convert the `'genotype_method'` column into two columns, one encoding genotype and the other the method. To do this, we first use Polars's string methods to split the entries in the column at the underscore. This gives a series of list data types. We then convert the list to a struct, where the fields are the column labels we want when we split the column into two, in this case `'genotype'` and `'method'`. Finally, we can unnest the column with our structs."
   ]
  },
  {
   "cell_type": "code",
   "execution_count": 6,
   "metadata": {},
   "outputs": [
    {
     "data": {
      "text/html": [
       "<div><style>\n",
       ".dataframe > thead > tr,\n",
       ".dataframe > tbody > tr {\n",
       "  text-align: right;\n",
       "  white-space: pre-wrap;\n",
       "}\n",
       "</style>\n",
       "<small>shape: (5, 3)</small><table border=\"1\" class=\"dataframe\"><thead><tr><th>genotype</th><th>method</th><th>gradient width</th></tr><tr><td>str</td><td>str</td><td>f64</td></tr></thead><tbody><tr><td>&quot;WT&quot;</td><td>&quot;whole mount&quot;</td><td>0.1288</td></tr><tr><td>&quot;WT&quot;</td><td>&quot;whole mount&quot;</td><td>0.1554</td></tr><tr><td>&quot;WT&quot;</td><td>&quot;whole mount&quot;</td><td>0.1306</td></tr><tr><td>&quot;WT&quot;</td><td>&quot;whole mount&quot;</td><td>0.1413</td></tr><tr><td>&quot;WT&quot;</td><td>&quot;whole mount&quot;</td><td>0.1557</td></tr></tbody></table></div>"
      ],
      "text/plain": [
       "shape: (5, 3)\n",
       "┌──────────┬─────────────┬────────────────┐\n",
       "│ genotype ┆ method      ┆ gradient width │\n",
       "│ ---      ┆ ---         ┆ ---            │\n",
       "│ str      ┆ str         ┆ f64            │\n",
       "╞══════════╪═════════════╪════════════════╡\n",
       "│ WT       ┆ whole mount ┆ 0.1288         │\n",
       "│ WT       ┆ whole mount ┆ 0.1554         │\n",
       "│ WT       ┆ whole mount ┆ 0.1306         │\n",
       "│ WT       ┆ whole mount ┆ 0.1413         │\n",
       "│ WT       ┆ whole mount ┆ 0.1557         │\n",
       "└──────────┴─────────────┴────────────────┘"
      ]
     },
     "execution_count": 6,
     "metadata": {},
     "output_type": "execute_result"
    }
   ],
   "source": [
    "df = df.with_columns(\n",
    "    pl.col('genotype_method')\n",
    "    .str.split('_')\n",
    "    .list.to_struct(fields=['genotype', 'method'])\n",
    ").unnest('genotype_method')\n",
    "\n",
    "# Take a look\n",
    "df.head()"
   ]
  },
  {
   "cell_type": "markdown",
   "metadata": {},
   "source": [
    "Looking at the data frame above, it is very **tall**. Each row only has a single **value**, that is, a single measurement, and every other column in the row is metadata associated with that measurement, specifically the genotype and method. Unpivoting operations generally make data frames taller, with more rows than before unpivoting."
   ]
  },
  {
   "cell_type": "markdown",
   "metadata": {},
   "source": [
    "### Using the data frame\n",
    "\n",
    "Let's make a plot like Fig. 1F of the [Reeves, Trisnadi, et al. paper](https://doi.org/10.1016/j.devcel.2011.12.007), but not with boxes, rather as a strip plot."
   ]
  },
  {
   "cell_type": "code",
   "execution_count": 7,
   "metadata": {},
   "outputs": [
    {
     "data": {
      "text/html": [
       "\n",
       "  <div id=\"f01ec857-f89d-4698-a40a-cf12802f2c4b\" data-root-id=\"p1009\" style=\"display: contents;\"></div>\n"
      ]
     },
     "metadata": {},
     "output_type": "display_data"
    },
    {
     "data": {
      "application/javascript": "(function(root) {\n  function embed_document(root) {\n  const docs_json = {\"4123e804-06eb-4c5c-99e6-43fcde4f5b67\":{\"version\":\"3.8.0\",\"title\":\"Bokeh Application\",\"config\":{\"type\":\"object\",\"name\":\"DocumentConfig\",\"id\":\"p1084\",\"attributes\":{\"notifications\":{\"type\":\"object\",\"name\":\"Notifications\",\"id\":\"p1085\"}}},\"roots\":[{\"type\":\"object\",\"name\":\"Figure\",\"id\":\"p1009\",\"attributes\":{\"x_range\":{\"type\":\"object\",\"name\":\"DataRange1d\",\"id\":\"p1011\"},\"y_range\":{\"type\":\"object\",\"name\":\"FactorRange\",\"id\":\"p1008\",\"attributes\":{\"factors\":[[\"dl1/+ ; dl-venus/+\",\"anti-Venus\"],[\"dl1/+ ; dl-venus/+\",\"anti-Dorsal\"],[\"dl1/+ ; dl-venus/+\",\"Venus (live)\"],[\"dl1/+ ; dl-gfp/+\",\"anti-GFP\"],[\"dl1/+ ; dl-gfp/+\",\"anti-Dorsal\"],[\"dl1/+ ; dl-gfp/+\",\"GFP (live)\"],[\"WT\",\"whole mount\"],[\"WT\",\"cross-section\"]]}},\"x_scale\":{\"type\":\"object\",\"name\":\"LinearScale\",\"id\":\"p1018\"},\"y_scale\":{\"type\":\"object\",\"name\":\"CategoricalScale\",\"id\":\"p1019\"},\"title\":{\"type\":\"object\",\"name\":\"Title\",\"id\":\"p1016\"},\"renderers\":[{\"type\":\"object\",\"name\":\"GlyphRenderer\",\"id\":\"p1053\",\"attributes\":{\"name\":\"hover_glyphs\",\"data_source\":{\"type\":\"object\",\"name\":\"ColumnDataSource\",\"id\":\"p1044\",\"attributes\":{\"selected\":{\"type\":\"object\",\"name\":\"Selection\",\"id\":\"p1045\",\"attributes\":{\"indices\":[],\"line_indices\":[]}},\"selection_policy\":{\"type\":\"object\",\"name\":\"UnionRenderers\",\"id\":\"p1046\"},\"data\":{\"type\":\"map\",\"entries\":[[\"index\",{\"type\":\"ndarray\",\"array\":{\"type\":\"bytes\",\"data\":\"H4sIAAEAAAAC/w3DBzcWAAAAwK+ipKJIiSJJ0aaEKESloYUo7VIaKCWKRGkjkVA0UKLkL7p77wKBQGCOc51nkMHOd4EhLjTURS52iWGGu9RlRhjpcqNc4UqjXWWMsa52jXHGu9YE15noepPc4EaTTXGTm93iVre53R2mmuZOd5nubjPMNMs9ZpvjXveZa5757rfAQg940EMWedgjHvWYxR73hCc95WlLLLXMM5Zb4VnPWel5L3jRS172ile95nWrvOFNq73lbe941xprrfOe9633gQ9t8JGNNvnYJzbb4lNbfWab7T73hR2+9JWvfeNb3/neTrvs9oM9frTXPj/Z72cHHHTIL3512BG/+d0f/nTUMcf95W8n/OOkU/71n9P+d8ZZAhSL/8ACAAA=\"},\"shape\":[176],\"dtype\":\"int32\",\"order\":\"little\"}],[\"genotype\",{\"type\":\"ndarray\",\"array\":[\"WT\",\"WT\",\"WT\",\"WT\",\"WT\",\"WT\",\"WT\",\"WT\",\"WT\",\"WT\",\"WT\",\"WT\",\"WT\",\"WT\",\"WT\",\"WT\",\"WT\",\"WT\",\"WT\",\"WT\",\"WT\",\"WT\",\"WT\",\"WT\",\"WT\",\"WT\",\"WT\",\"WT\",\"WT\",\"WT\",\"WT\",\"WT\",\"WT\",\"WT\",\"WT\",\"WT\",\"WT\",\"WT\",\"WT\",\"WT\",\"WT\",\"WT\",\"WT\",\"WT\",\"WT\",\"WT\",\"WT\",\"WT\",\"WT\",\"WT\",\"WT\",\"WT\",\"WT\",\"WT\",\"WT\",\"WT\",\"WT\",\"WT\",\"WT\",\"WT\",\"WT\",\"WT\",\"WT\",\"WT\",\"WT\",\"WT\",\"WT\",\"WT\",\"WT\",\"WT\",\"WT\",\"WT\",\"WT\",\"WT\",\"WT\",\"WT\",\"WT\",\"WT\",\"WT\",\"WT\",\"WT\",\"WT\",\"WT\",\"WT\",\"WT\",\"WT\",\"WT\",\"WT\",\"WT\",\"WT\",\"WT\",\"WT\",\"WT\",\"WT\",\"WT\",\"WT\",\"WT\",\"WT\",\"WT\",\"WT\",\"WT\",\"WT\",\"WT\",\"WT\",\"WT\",\"WT\",\"WT\",\"WT\",\"WT\",\"WT\",\"WT\",\"WT\",\"WT\",\"WT\",\"WT\",\"WT\",\"WT\",\"WT\",\"WT\",\"WT\",\"WT\",\"WT\",\"WT\",\"WT\",\"WT\",\"WT\",\"WT\",\"WT\",\"WT\",\"WT\",\"WT\",\"WT\",\"WT\",\"WT\",\"WT\",\"WT\",\"WT\",\"WT\",\"WT\",\"WT\",\"WT\",\"WT\",\"WT\",\"WT\",\"WT\",\"WT\",\"WT\",\"WT\",\"WT\",\"WT\",\"WT\",\"WT\",\"WT\",\"WT\",\"WT\",\"WT\",\"WT\",\"WT\",\"WT\",\"WT\",\"WT\",\"WT\",\"WT\",\"WT\",\"WT\",\"WT\",\"WT\",\"WT\",\"WT\",\"WT\",\"WT\",\"WT\",\"WT\",\"WT\",\"WT\",\"WT\"],\"shape\":[176],\"dtype\":\"object\",\"order\":\"little\"}],[\"method\",{\"type\":\"ndarray\",\"array\":[\"whole mount\",\"whole mount\",\"whole mount\",\"whole mount\",\"whole mount\",\"whole mount\",\"whole mount\",\"whole mount\",\"whole mount\",\"whole mount\",\"whole mount\",\"whole mount\",\"whole mount\",\"whole mount\",\"whole mount\",\"whole mount\",\"whole mount\",\"whole mount\",\"whole mount\",\"whole mount\",\"whole mount\",\"whole mount\",\"whole mount\",\"whole mount\",\"cross-section\",\"cross-section\",\"cross-section\",\"cross-section\",\"cross-section\",\"cross-section\",\"cross-section\",\"cross-section\",\"cross-section\",\"cross-section\",\"cross-section\",\"cross-section\",\"cross-section\",\"cross-section\",\"cross-section\",\"cross-section\",\"cross-section\",\"cross-section\",\"cross-section\",\"cross-section\",\"cross-section\",\"cross-section\",\"cross-section\",\"cross-section\",\"cross-section\",\"cross-section\",\"cross-section\",\"cross-section\",\"cross-section\",\"cross-section\",\"cross-section\",\"cross-section\",\"cross-section\",\"cross-section\",\"cross-section\",\"cross-section\",\"cross-section\",\"cross-section\",\"cross-section\",\"cross-section\",\"cross-section\",\"cross-section\",\"cross-section\",\"cross-section\",\"cross-section\",\"cross-section\",\"cross-section\",\"cross-section\",\"cross-section\",\"cross-section\",\"cross-section\",\"cross-section\",\"cross-section\",\"cross-section\",\"cross-section\",\"cross-section\",\"cross-section\",\"cross-section\",\"cross-section\",\"cross-section\",\"cross-section\",\"cross-section\",\"cross-section\",\"cross-section\",\"cross-section\",\"cross-section\",\"cross-section\",\"cross-section\",\"cross-section\",\"cross-section\",\"cross-section\",\"cross-section\",\"cross-section\",\"cross-section\",\"cross-section\",\"cross-section\",\"cross-section\",\"cross-section\",\"cross-section\",\"cross-section\",\"cross-section\",\"cross-section\",\"cross-section\",\"cross-section\",\"cross-section\",\"cross-section\",\"cross-section\",\"cross-section\",\"cross-section\",\"cross-section\",\"cross-section\",\"cross-section\",\"cross-section\",\"cross-section\",\"cross-section\",\"cross-section\",\"cross-section\",\"cross-section\",\"cross-section\",\"cross-section\",\"cross-section\",\"cross-section\",\"cross-section\",\"cross-section\",\"cross-section\",\"cross-section\",\"cross-section\",\"cross-section\",\"cross-section\",\"cross-section\",\"cross-section\",\"cross-section\",\"cross-section\",\"cross-section\",\"cross-section\",\"cross-section\",\"cross-section\",\"cross-section\",\"cross-section\",\"cross-section\",\"cross-section\",\"cross-section\",\"cross-section\",\"cross-section\",\"cross-section\",\"cross-section\",\"cross-section\",\"cross-section\",\"cross-section\",\"cross-section\",\"cross-section\",\"cross-section\",\"cross-section\",\"cross-section\",\"cross-section\",\"cross-section\",\"cross-section\",\"cross-section\",\"cross-section\",\"cross-section\",\"cross-section\",\"cross-section\",\"cross-section\",\"cross-section\",\"cross-section\",\"cross-section\",\"cross-section\",\"cross-section\",\"cross-section\",\"cross-section\",\"cross-section\",\"cross-section\"],\"shape\":[176],\"dtype\":\"object\",\"order\":\"little\"}],[\"gradient width\",{\"type\":\"ndarray\",\"array\":{\"type\":\"bytes\",\"data\":\"H4sIAAEAAAAC/z2UfTSWZxzHlYYKK5M5bEv0gjIvp7Yl+q6s1oz0rmS9qXPMKrXehGUlL2ENlUJHmmSW0Kk4Tg/u+7pfJCWh2ZPyMmQtnN5QxHZd98l9//c893M91/f3/X6+P8gPrx8N5/DG+XH+tHYBf0o7Zv9czEG7cb/PJ2YEyf7DHgPdAtjbyAwJA91Pubk2BL8tKno5VM/hZJ/exjNeEmbGmGmr+wXojo2bHNBD0Bpqmv91K0F+0ZYIrTuPCU+KC3Q7NdBRHg7GZU6p9uYSDp/yiN/eKSAqvObqul4ej3GhucxYgwd5A/47JBnpq89duvxXOfRMTCE/lNC/r+XsxGwJF3a5j2vI4qD/zGzJsrccPMMiHb0uEvSdfnQiJorAaHdefGMgh8XT9o1OMxDwdM/1SYNVZarun9h1JQR1TS3jT+QSvDXf02DygkemheOjqXo80lLZw+NKeVeG2ywR1ttDQrNnCfiSyTsrYO3vc+7MW8pj+sr3spJdeZSuSJlyfB+PzsHc57XeBPOafX45vZPg2s39ZecsKrDh25v67umSep4eGuV9VILXxXFUIgFTqxPMw6o2eKN+NY/L3zftjjsuwkYZTIan4WhqMa/6adTikJj5msdQzKvGhsMCClg8dwgWs/FCeByeTqJzfAnih7b1t2/msfX2d1SBhJDxU20PJfDQuh+kI5TCYvkDy/DNVC9VY+RTjvUL5/+jzSNoZrYc4WE91Ecd56GrHBQR/CyqchXPYemWCWvnXuPgtvRekv+wAFdFqIhI7tb5RUUC7o8NpJYR1ZdJCZ7/jpnNq/4nOh9wmDJZhLiQTUoQ0ONHb6a+G1hmbLATEO1Xp2kzlaB8rRWxau/U0/8lluHI3xVnbqRwOP+aASuq87oogMroonR6hgmgMK5syxbQGMcM4GHXbUSJI+hnuE4S0W76cWUHRJgoguV3fMiojq2lRAgwpNMv/0aCa3JVxJJyCTRECoaMShano4TwzS6rnez5d9yWwKbxzaEgDf1fmsIfdyVcunt/TZejoHK+YkbmscJWHpq9J8zHrJHhphgjqXOfYdj6CaClC/J+KWO9Ap4IZ4O8j/y2CqAwUalEvWfkfZZNyduYVwI+P7ZgU0cNQUeNNf0FwSZW3yAJ/lYLngfcltRcwlgtQ0WwlAf8S3HVkBWFg2RV+GNgkoQn09mNBHb+v5JeW1Hla+JnTDGPddFf0BUhwsCdNbMUSi08NCovl+b7Umk0F2UxaCBe+XRn1igRdd4MGBFt2emiVSHBmM4EWxoJGrJYkQW1xyPcfFh8T6dp9Mg+EBGT43vLReShz+JLIFDWVo0Apd6WMpirxg4EgUnd4ZgjQ6nlKAmpN1IS3w+V1b3xonDZD2kHRDjZ535Q8xWHGawmtyjvrK4mAno9lQlxqp4J4dBny4zgVB5GPuccrLBzTRYwU1k4kronR3pgNljVUykQ+BSc3BYbIGG4PoRayyFi0HVXdSxRufsf7cNLlYAFAAA=\"},\"shape\":[176],\"dtype\":\"float64\",\"order\":\"little\"}],[\"cat\",{\"type\":\"ndarray\",\"array\":[[\"WT\",\"whole mount\"],[\"WT\",\"whole mount\"],[\"WT\",\"whole mount\"],[\"WT\",\"whole mount\"],[\"WT\",\"whole mount\"],[\"WT\",\"whole mount\"],[\"WT\",\"whole mount\"],[\"WT\",\"whole mount\"],[\"WT\",\"whole mount\"],[\"WT\",\"whole mount\"],[\"WT\",\"whole mount\"],[\"WT\",\"whole mount\"],[\"WT\",\"whole mount\"],[\"WT\",\"whole mount\"],[\"WT\",\"whole mount\"],[\"WT\",\"whole mount\"],[\"WT\",\"whole mount\"],[\"WT\",\"whole mount\"],[\"WT\",\"whole mount\"],[\"WT\",\"whole mount\"],[\"WT\",\"whole mount\"],[\"WT\",\"whole mount\"],[\"WT\",\"whole mount\"],[\"WT\",\"whole mount\"],[\"WT\",\"cross-section\"],[\"WT\",\"cross-section\"],[\"WT\",\"cross-section\"],[\"WT\",\"cross-section\"],[\"WT\",\"cross-section\"],[\"WT\",\"cross-section\"],[\"WT\",\"cross-section\"],[\"WT\",\"cross-section\"],[\"WT\",\"cross-section\"],[\"WT\",\"cross-section\"],[\"WT\",\"cross-section\"],[\"WT\",\"cross-section\"],[\"WT\",\"cross-section\"],[\"WT\",\"cross-section\"],[\"WT\",\"cross-section\"],[\"WT\",\"cross-section\"],[\"WT\",\"cross-section\"],[\"WT\",\"cross-section\"],[\"WT\",\"cross-section\"],[\"WT\",\"cross-section\"],[\"WT\",\"cross-section\"],[\"WT\",\"cross-section\"],[\"WT\",\"cross-section\"],[\"WT\",\"cross-section\"],[\"WT\",\"cross-section\"],[\"WT\",\"cross-section\"],[\"WT\",\"cross-section\"],[\"WT\",\"cross-section\"],[\"WT\",\"cross-section\"],[\"WT\",\"cross-section\"],[\"WT\",\"cross-section\"],[\"WT\",\"cross-section\"],[\"WT\",\"cross-section\"],[\"WT\",\"cross-section\"],[\"WT\",\"cross-section\"],[\"WT\",\"cross-section\"],[\"WT\",\"cross-section\"],[\"WT\",\"cross-section\"],[\"WT\",\"cross-section\"],[\"WT\",\"cross-section\"],[\"WT\",\"cross-section\"],[\"WT\",\"cross-section\"],[\"WT\",\"cross-section\"],[\"WT\",\"cross-section\"],[\"WT\",\"cross-section\"],[\"WT\",\"cross-section\"],[\"WT\",\"cross-section\"],[\"WT\",\"cross-section\"],[\"WT\",\"cross-section\"],[\"WT\",\"cross-section\"],[\"WT\",\"cross-section\"],[\"WT\",\"cross-section\"],[\"WT\",\"cross-section\"],[\"WT\",\"cross-section\"],[\"WT\",\"cross-section\"],[\"WT\",\"cross-section\"],[\"WT\",\"cross-section\"],[\"WT\",\"cross-section\"],[\"WT\",\"cross-section\"],[\"WT\",\"cross-section\"],[\"WT\",\"cross-section\"],[\"WT\",\"cross-section\"],[\"WT\",\"cross-section\"],[\"WT\",\"cross-section\"],[\"WT\",\"cross-section\"],[\"WT\",\"cross-section\"],[\"WT\",\"cross-section\"],[\"WT\",\"cross-section\"],[\"WT\",\"cross-section\"],[\"WT\",\"cross-section\"],[\"WT\",\"cross-section\"],[\"WT\",\"cross-section\"],[\"WT\",\"cross-section\"],[\"WT\",\"cross-section\"],[\"WT\",\"cross-section\"],[\"WT\",\"cross-section\"],[\"WT\",\"cross-section\"],[\"WT\",\"cross-section\"],[\"WT\",\"cross-section\"],[\"WT\",\"cross-section\"],[\"WT\",\"cross-section\"],[\"WT\",\"cross-section\"],[\"WT\",\"cross-section\"],[\"WT\",\"cross-section\"],[\"WT\",\"cross-section\"],[\"WT\",\"cross-section\"],[\"WT\",\"cross-section\"],[\"WT\",\"cross-section\"],[\"WT\",\"cross-section\"],[\"WT\",\"cross-section\"],[\"WT\",\"cross-section\"],[\"WT\",\"cross-section\"],[\"WT\",\"cross-section\"],[\"WT\",\"cross-section\"],[\"WT\",\"cross-section\"],[\"WT\",\"cross-section\"],[\"WT\",\"cross-section\"],[\"WT\",\"cross-section\"],[\"WT\",\"cross-section\"],[\"WT\",\"cross-section\"],[\"WT\",\"cross-section\"],[\"WT\",\"cross-section\"],[\"WT\",\"cross-section\"],[\"WT\",\"cross-section\"],[\"WT\",\"cross-section\"],[\"WT\",\"cross-section\"],[\"WT\",\"cross-section\"],[\"WT\",\"cross-section\"],[\"WT\",\"cross-section\"],[\"WT\",\"cross-section\"],[\"WT\",\"cross-section\"],[\"WT\",\"cross-section\"],[\"WT\",\"cross-section\"],[\"WT\",\"cross-section\"],[\"WT\",\"cross-section\"],[\"WT\",\"cross-section\"],[\"WT\",\"cross-section\"],[\"WT\",\"cross-section\"],[\"WT\",\"cross-section\"],[\"WT\",\"cross-section\"],[\"WT\",\"cross-section\"],[\"WT\",\"cross-section\"],[\"WT\",\"cross-section\"],[\"WT\",\"cross-section\"],[\"WT\",\"cross-section\"],[\"WT\",\"cross-section\"],[\"WT\",\"cross-section\"],[\"WT\",\"cross-section\"],[\"WT\",\"cross-section\"],[\"WT\",\"cross-section\"],[\"WT\",\"cross-section\"],[\"WT\",\"cross-section\"],[\"WT\",\"cross-section\"],[\"WT\",\"cross-section\"],[\"WT\",\"cross-section\"],[\"WT\",\"cross-section\"],[\"WT\",\"cross-section\"],[\"WT\",\"cross-section\"],[\"WT\",\"cross-section\"],[\"WT\",\"cross-section\"],[\"WT\",\"cross-section\"],[\"WT\",\"cross-section\"],[\"WT\",\"cross-section\"],[\"WT\",\"cross-section\"],[\"WT\",\"cross-section\"],[\"WT\",\"cross-section\"],[\"WT\",\"cross-section\"],[\"WT\",\"cross-section\"],[\"WT\",\"cross-section\"],[\"WT\",\"cross-section\"],[\"WT\",\"cross-section\"],[\"WT\",\"cross-section\"]],\"shape\":[176],\"dtype\":\"object\",\"order\":\"little\"}],[\"__label\",{\"type\":\"ndarray\",\"array\":[\"WT\",\"WT\",\"WT\",\"WT\",\"WT\",\"WT\",\"WT\",\"WT\",\"WT\",\"WT\",\"WT\",\"WT\",\"WT\",\"WT\",\"WT\",\"WT\",\"WT\",\"WT\",\"WT\",\"WT\",\"WT\",\"WT\",\"WT\",\"WT\",\"WT\",\"WT\",\"WT\",\"WT\",\"WT\",\"WT\",\"WT\",\"WT\",\"WT\",\"WT\",\"WT\",\"WT\",\"WT\",\"WT\",\"WT\",\"WT\",\"WT\",\"WT\",\"WT\",\"WT\",\"WT\",\"WT\",\"WT\",\"WT\",\"WT\",\"WT\",\"WT\",\"WT\",\"WT\",\"WT\",\"WT\",\"WT\",\"WT\",\"WT\",\"WT\",\"WT\",\"WT\",\"WT\",\"WT\",\"WT\",\"WT\",\"WT\",\"WT\",\"WT\",\"WT\",\"WT\",\"WT\",\"WT\",\"WT\",\"WT\",\"WT\",\"WT\",\"WT\",\"WT\",\"WT\",\"WT\",\"WT\",\"WT\",\"WT\",\"WT\",\"WT\",\"WT\",\"WT\",\"WT\",\"WT\",\"WT\",\"WT\",\"WT\",\"WT\",\"WT\",\"WT\",\"WT\",\"WT\",\"WT\",\"WT\",\"WT\",\"WT\",\"WT\",\"WT\",\"WT\",\"WT\",\"WT\",\"WT\",\"WT\",\"WT\",\"WT\",\"WT\",\"WT\",\"WT\",\"WT\",\"WT\",\"WT\",\"WT\",\"WT\",\"WT\",\"WT\",\"WT\",\"WT\",\"WT\",\"WT\",\"WT\",\"WT\",\"WT\",\"WT\",\"WT\",\"WT\",\"WT\",\"WT\",\"WT\",\"WT\",\"WT\",\"WT\",\"WT\",\"WT\",\"WT\",\"WT\",\"WT\",\"WT\",\"WT\",\"WT\",\"WT\",\"WT\",\"WT\",\"WT\",\"WT\",\"WT\",\"WT\",\"WT\",\"WT\",\"WT\",\"WT\",\"WT\",\"WT\",\"WT\",\"WT\",\"WT\",\"WT\",\"WT\",\"WT\",\"WT\",\"WT\",\"WT\",\"WT\",\"WT\",\"WT\",\"WT\",\"WT\",\"WT\",\"WT\",\"WT\",\"WT\",\"WT\"],\"shape\":[176],\"dtype\":\"object\",\"order\":\"little\"}]]}}},\"view\":{\"type\":\"object\",\"name\":\"CDSView\",\"id\":\"p1054\",\"attributes\":{\"filter\":{\"type\":\"object\",\"name\":\"AllIndices\",\"id\":\"p1055\"}}},\"glyph\":{\"type\":\"object\",\"name\":\"Scatter\",\"id\":\"p1050\",\"attributes\":{\"x\":{\"type\":\"field\",\"field\":\"gradient width\"},\"y\":{\"type\":\"field\",\"field\":\"cat\",\"transform\":{\"type\":\"object\",\"name\":\"Jitter\",\"id\":\"p1043\",\"attributes\":{\"width\":0.1,\"distribution\":\"normal\",\"range\":{\"id\":\"p1008\"}}}},\"line_color\":{\"type\":\"value\",\"value\":\"#1f77b3\"},\"fill_color\":{\"type\":\"value\",\"value\":\"#1f77b3\"},\"hatch_color\":{\"type\":\"value\",\"value\":\"#1f77b3\"}}},\"nonselection_glyph\":{\"type\":\"object\",\"name\":\"Scatter\",\"id\":\"p1051\",\"attributes\":{\"x\":{\"type\":\"field\",\"field\":\"gradient width\"},\"y\":{\"type\":\"field\",\"field\":\"cat\",\"transform\":{\"id\":\"p1043\"}},\"line_color\":{\"type\":\"value\",\"value\":\"#1f77b3\"},\"line_alpha\":{\"type\":\"value\",\"value\":0.1},\"fill_color\":{\"type\":\"value\",\"value\":\"#1f77b3\"},\"fill_alpha\":{\"type\":\"value\",\"value\":0.1},\"hatch_color\":{\"type\":\"value\",\"value\":\"#1f77b3\"},\"hatch_alpha\":{\"type\":\"value\",\"value\":0.1}}},\"muted_glyph\":{\"type\":\"object\",\"name\":\"Scatter\",\"id\":\"p1052\",\"attributes\":{\"x\":{\"type\":\"field\",\"field\":\"gradient width\"},\"y\":{\"type\":\"field\",\"field\":\"cat\",\"transform\":{\"id\":\"p1043\"}},\"line_color\":{\"type\":\"value\",\"value\":\"#1f77b3\"},\"line_alpha\":{\"type\":\"value\",\"value\":0.2},\"fill_color\":{\"type\":\"value\",\"value\":\"#1f77b3\"},\"fill_alpha\":{\"type\":\"value\",\"value\":0.2},\"hatch_color\":{\"type\":\"value\",\"value\":\"#1f77b3\"},\"hatch_alpha\":{\"type\":\"value\",\"value\":0.2}}}}},{\"type\":\"object\",\"name\":\"GlyphRenderer\",\"id\":\"p1065\",\"attributes\":{\"name\":\"hover_glyphs\",\"data_source\":{\"type\":\"object\",\"name\":\"ColumnDataSource\",\"id\":\"p1056\",\"attributes\":{\"selected\":{\"type\":\"object\",\"name\":\"Selection\",\"id\":\"p1057\",\"attributes\":{\"indices\":[],\"line_indices\":[]}},\"selection_policy\":{\"type\":\"object\",\"name\":\"UnionRenderers\",\"id\":\"p1058\"},\"data\":{\"type\":\"map\",\"entries\":[[\"index\",{\"type\":\"ndarray\",\"array\":{\"type\":\"bytes\",\"data\":\"H4sIAAEAAAAC/w3DiRKBUAAAwEdRrqiU4/9/T8hNaGd2DyGExqMnz7ZevHrz7sOnL99+7Pz6828Y4NDI2JFjE1MnTp05d2Hm0pW5haVrK2s3bt25twc01yABuAAAAA==\"},\"shape\":[46],\"dtype\":\"int32\",\"order\":\"little\"}],[\"genotype\",{\"type\":\"ndarray\",\"array\":[\"dl1/+ ; dl-gfp/+\",\"dl1/+ ; dl-gfp/+\",\"dl1/+ ; dl-gfp/+\",\"dl1/+ ; dl-gfp/+\",\"dl1/+ ; dl-gfp/+\",\"dl1/+ ; dl-gfp/+\",\"dl1/+ ; dl-gfp/+\",\"dl1/+ ; dl-gfp/+\",\"dl1/+ ; dl-gfp/+\",\"dl1/+ ; dl-gfp/+\",\"dl1/+ ; dl-gfp/+\",\"dl1/+ ; dl-gfp/+\",\"dl1/+ ; dl-gfp/+\",\"dl1/+ ; dl-gfp/+\",\"dl1/+ ; dl-gfp/+\",\"dl1/+ ; dl-gfp/+\",\"dl1/+ ; dl-gfp/+\",\"dl1/+ ; dl-gfp/+\",\"dl1/+ ; dl-gfp/+\",\"dl1/+ ; dl-gfp/+\",\"dl1/+ ; dl-gfp/+\",\"dl1/+ ; dl-gfp/+\",\"dl1/+ ; dl-gfp/+\",\"dl1/+ ; dl-gfp/+\",\"dl1/+ ; dl-gfp/+\",\"dl1/+ ; dl-gfp/+\",\"dl1/+ ; dl-gfp/+\",\"dl1/+ ; dl-gfp/+\",\"dl1/+ ; dl-gfp/+\",\"dl1/+ ; dl-gfp/+\",\"dl1/+ ; dl-gfp/+\",\"dl1/+ ; dl-gfp/+\",\"dl1/+ ; dl-gfp/+\",\"dl1/+ ; dl-gfp/+\",\"dl1/+ ; dl-gfp/+\",\"dl1/+ ; dl-gfp/+\",\"dl1/+ ; dl-gfp/+\",\"dl1/+ ; dl-gfp/+\",\"dl1/+ ; dl-gfp/+\",\"dl1/+ ; dl-gfp/+\",\"dl1/+ ; dl-gfp/+\",\"dl1/+ ; dl-gfp/+\",\"dl1/+ ; dl-gfp/+\",\"dl1/+ ; dl-gfp/+\",\"dl1/+ ; dl-gfp/+\",\"dl1/+ ; dl-gfp/+\"],\"shape\":[46],\"dtype\":\"object\",\"order\":\"little\"}],[\"method\",{\"type\":\"ndarray\",\"array\":[\"anti-Dorsal\",\"anti-Dorsal\",\"anti-Dorsal\",\"anti-Dorsal\",\"anti-Dorsal\",\"anti-Dorsal\",\"anti-Dorsal\",\"anti-Dorsal\",\"anti-Dorsal\",\"anti-Dorsal\",\"anti-Dorsal\",\"anti-Dorsal\",\"anti-Dorsal\",\"anti-Dorsal\",\"anti-Dorsal\",\"anti-Dorsal\",\"anti-Dorsal\",\"anti-Dorsal\",\"anti-Dorsal\",\"anti-Dorsal\",\"anti-GFP\",\"anti-GFP\",\"anti-GFP\",\"anti-GFP\",\"anti-GFP\",\"anti-GFP\",\"anti-GFP\",\"anti-GFP\",\"anti-GFP\",\"anti-GFP\",\"anti-GFP\",\"anti-GFP\",\"anti-GFP\",\"anti-GFP\",\"anti-GFP\",\"anti-GFP\",\"anti-GFP\",\"anti-GFP\",\"anti-GFP\",\"anti-GFP\",\"GFP (live)\",\"GFP (live)\",\"GFP (live)\",\"GFP (live)\",\"GFP (live)\",\"GFP (live)\"],\"shape\":[46],\"dtype\":\"object\",\"order\":\"little\"}],[\"gradient width\",{\"type\":\"ndarray\",\"array\":{\"type\":\"bytes\",\"data\":\"H4sIAAEAAAAC/9vDKiRif+yMfZvFtaO5Jifsc5//Xvnx0lH7jIlva+xNj9m3i9089z34tH3owRVL/BxO2xdfF/rkeP6YfdmDOYJL9560B+lq2H7CPiX2jhtzxWn7FeGnjI5sPGeft5hxD6vQGXs31VKmWRyn7Z1lXj8yk7pgb/RsneqT5mP2sief2i+5f8z+9ELXbZ//HrGfuXvaBP6qY/YRK0zPWvsBzQ17o79b/bj9neuNxW5Tztnbm8bt8uQ5ZW9dcK7j0r0T9rNmgsBJ+z9A1/omXbC32Rs0TbHvrH3u0X+bqj+dsF8/JbUjOfaMfaEt1/XFBWftaxKNQg20Ltq/i3Kye3Hzgn0Yn+6mue/P26+7EV/mL3fO/sqsZ7LLX1ywz1DKqahaesb+vn/v9Dyh0/b5H1pPhhw8YV/U1ffkk/wp+9+n35087HTWnpmzSz753SmoP87Zb+YpXNN9+4T95lfFW0V/n4bLe85tUDvUdt7eKeHpBaXbJ+0BwS/AGHABAAA=\"},\"shape\":[46],\"dtype\":\"float64\",\"order\":\"little\"}],[\"cat\",{\"type\":\"ndarray\",\"array\":[[\"dl1/+ ; dl-gfp/+\",\"anti-Dorsal\"],[\"dl1/+ ; dl-gfp/+\",\"anti-Dorsal\"],[\"dl1/+ ; dl-gfp/+\",\"anti-Dorsal\"],[\"dl1/+ ; dl-gfp/+\",\"anti-Dorsal\"],[\"dl1/+ ; dl-gfp/+\",\"anti-Dorsal\"],[\"dl1/+ ; dl-gfp/+\",\"anti-Dorsal\"],[\"dl1/+ ; dl-gfp/+\",\"anti-Dorsal\"],[\"dl1/+ ; dl-gfp/+\",\"anti-Dorsal\"],[\"dl1/+ ; dl-gfp/+\",\"anti-Dorsal\"],[\"dl1/+ ; dl-gfp/+\",\"anti-Dorsal\"],[\"dl1/+ ; dl-gfp/+\",\"anti-Dorsal\"],[\"dl1/+ ; dl-gfp/+\",\"anti-Dorsal\"],[\"dl1/+ ; dl-gfp/+\",\"anti-Dorsal\"],[\"dl1/+ ; dl-gfp/+\",\"anti-Dorsal\"],[\"dl1/+ ; dl-gfp/+\",\"anti-Dorsal\"],[\"dl1/+ ; dl-gfp/+\",\"anti-Dorsal\"],[\"dl1/+ ; dl-gfp/+\",\"anti-Dorsal\"],[\"dl1/+ ; dl-gfp/+\",\"anti-Dorsal\"],[\"dl1/+ ; dl-gfp/+\",\"anti-Dorsal\"],[\"dl1/+ ; dl-gfp/+\",\"anti-Dorsal\"],[\"dl1/+ ; dl-gfp/+\",\"anti-GFP\"],[\"dl1/+ ; dl-gfp/+\",\"anti-GFP\"],[\"dl1/+ ; dl-gfp/+\",\"anti-GFP\"],[\"dl1/+ ; dl-gfp/+\",\"anti-GFP\"],[\"dl1/+ ; dl-gfp/+\",\"anti-GFP\"],[\"dl1/+ ; dl-gfp/+\",\"anti-GFP\"],[\"dl1/+ ; dl-gfp/+\",\"anti-GFP\"],[\"dl1/+ ; dl-gfp/+\",\"anti-GFP\"],[\"dl1/+ ; dl-gfp/+\",\"anti-GFP\"],[\"dl1/+ ; dl-gfp/+\",\"anti-GFP\"],[\"dl1/+ ; dl-gfp/+\",\"anti-GFP\"],[\"dl1/+ ; dl-gfp/+\",\"anti-GFP\"],[\"dl1/+ ; dl-gfp/+\",\"anti-GFP\"],[\"dl1/+ ; dl-gfp/+\",\"anti-GFP\"],[\"dl1/+ ; dl-gfp/+\",\"anti-GFP\"],[\"dl1/+ ; dl-gfp/+\",\"anti-GFP\"],[\"dl1/+ ; dl-gfp/+\",\"anti-GFP\"],[\"dl1/+ ; dl-gfp/+\",\"anti-GFP\"],[\"dl1/+ ; dl-gfp/+\",\"anti-GFP\"],[\"dl1/+ ; dl-gfp/+\",\"anti-GFP\"],[\"dl1/+ ; dl-gfp/+\",\"GFP (live)\"],[\"dl1/+ ; dl-gfp/+\",\"GFP (live)\"],[\"dl1/+ ; dl-gfp/+\",\"GFP (live)\"],[\"dl1/+ ; dl-gfp/+\",\"GFP (live)\"],[\"dl1/+ ; dl-gfp/+\",\"GFP (live)\"],[\"dl1/+ ; dl-gfp/+\",\"GFP (live)\"]],\"shape\":[46],\"dtype\":\"object\",\"order\":\"little\"}],[\"__label\",{\"type\":\"ndarray\",\"array\":[\"dl1/+ ; dl-gfp/+\",\"dl1/+ ; dl-gfp/+\",\"dl1/+ ; dl-gfp/+\",\"dl1/+ ; dl-gfp/+\",\"dl1/+ ; dl-gfp/+\",\"dl1/+ ; dl-gfp/+\",\"dl1/+ ; dl-gfp/+\",\"dl1/+ ; dl-gfp/+\",\"dl1/+ ; dl-gfp/+\",\"dl1/+ ; dl-gfp/+\",\"dl1/+ ; dl-gfp/+\",\"dl1/+ ; dl-gfp/+\",\"dl1/+ ; dl-gfp/+\",\"dl1/+ ; dl-gfp/+\",\"dl1/+ ; dl-gfp/+\",\"dl1/+ ; dl-gfp/+\",\"dl1/+ ; dl-gfp/+\",\"dl1/+ ; dl-gfp/+\",\"dl1/+ ; dl-gfp/+\",\"dl1/+ ; dl-gfp/+\",\"dl1/+ ; dl-gfp/+\",\"dl1/+ ; dl-gfp/+\",\"dl1/+ ; dl-gfp/+\",\"dl1/+ ; dl-gfp/+\",\"dl1/+ ; dl-gfp/+\",\"dl1/+ ; dl-gfp/+\",\"dl1/+ ; dl-gfp/+\",\"dl1/+ ; dl-gfp/+\",\"dl1/+ ; dl-gfp/+\",\"dl1/+ ; dl-gfp/+\",\"dl1/+ ; dl-gfp/+\",\"dl1/+ ; dl-gfp/+\",\"dl1/+ ; dl-gfp/+\",\"dl1/+ ; dl-gfp/+\",\"dl1/+ ; dl-gfp/+\",\"dl1/+ ; dl-gfp/+\",\"dl1/+ ; dl-gfp/+\",\"dl1/+ ; dl-gfp/+\",\"dl1/+ ; dl-gfp/+\",\"dl1/+ ; dl-gfp/+\",\"dl1/+ ; dl-gfp/+\",\"dl1/+ ; dl-gfp/+\",\"dl1/+ ; dl-gfp/+\",\"dl1/+ ; dl-gfp/+\",\"dl1/+ ; dl-gfp/+\",\"dl1/+ ; dl-gfp/+\"],\"shape\":[46],\"dtype\":\"object\",\"order\":\"little\"}]]}}},\"view\":{\"type\":\"object\",\"name\":\"CDSView\",\"id\":\"p1066\",\"attributes\":{\"filter\":{\"type\":\"object\",\"name\":\"AllIndices\",\"id\":\"p1067\"}}},\"glyph\":{\"type\":\"object\",\"name\":\"Scatter\",\"id\":\"p1062\",\"attributes\":{\"x\":{\"type\":\"field\",\"field\":\"gradient width\"},\"y\":{\"type\":\"field\",\"field\":\"cat\",\"transform\":{\"id\":\"p1043\"}},\"line_color\":{\"type\":\"value\",\"value\":\"#ff7e0e\"},\"fill_color\":{\"type\":\"value\",\"value\":\"#ff7e0e\"},\"hatch_color\":{\"type\":\"value\",\"value\":\"#ff7e0e\"}}},\"nonselection_glyph\":{\"type\":\"object\",\"name\":\"Scatter\",\"id\":\"p1063\",\"attributes\":{\"x\":{\"type\":\"field\",\"field\":\"gradient width\"},\"y\":{\"type\":\"field\",\"field\":\"cat\",\"transform\":{\"id\":\"p1043\"}},\"line_color\":{\"type\":\"value\",\"value\":\"#ff7e0e\"},\"line_alpha\":{\"type\":\"value\",\"value\":0.1},\"fill_color\":{\"type\":\"value\",\"value\":\"#ff7e0e\"},\"fill_alpha\":{\"type\":\"value\",\"value\":0.1},\"hatch_color\":{\"type\":\"value\",\"value\":\"#ff7e0e\"},\"hatch_alpha\":{\"type\":\"value\",\"value\":0.1}}},\"muted_glyph\":{\"type\":\"object\",\"name\":\"Scatter\",\"id\":\"p1064\",\"attributes\":{\"x\":{\"type\":\"field\",\"field\":\"gradient width\"},\"y\":{\"type\":\"field\",\"field\":\"cat\",\"transform\":{\"id\":\"p1043\"}},\"line_color\":{\"type\":\"value\",\"value\":\"#ff7e0e\"},\"line_alpha\":{\"type\":\"value\",\"value\":0.2},\"fill_color\":{\"type\":\"value\",\"value\":\"#ff7e0e\"},\"fill_alpha\":{\"type\":\"value\",\"value\":0.2},\"hatch_color\":{\"type\":\"value\",\"value\":\"#ff7e0e\"},\"hatch_alpha\":{\"type\":\"value\",\"value\":0.2}}}}},{\"type\":\"object\",\"name\":\"GlyphRenderer\",\"id\":\"p1077\",\"attributes\":{\"name\":\"hover_glyphs\",\"data_source\":{\"type\":\"object\",\"name\":\"ColumnDataSource\",\"id\":\"p1068\",\"attributes\":{\"selected\":{\"type\":\"object\",\"name\":\"Selection\",\"id\":\"p1069\",\"attributes\":{\"indices\":[],\"line_indices\":[]}},\"selection_policy\":{\"type\":\"object\",\"name\":\"UnionRenderers\",\"id\":\"p1070\"},\"data\":{\"type\":\"map\",\"entries\":[[\"index\",{\"type\":\"ndarray\",\"array\":{\"type\":\"bytes\",\"data\":\"H4sIAAEAAAAC/w3DgxEDAQAAsN9/mtq2bdtDNLlLKAiCsBGjxoybMGnKtBmz5sxbsGjJshWr1qzbsGnLth279uw7cOjIsROnzpy7cOnKtRu37tx78OjJsxev3rz78OnLtx+//vwDCidxiPQAAAA=\"},\"shape\":[61],\"dtype\":\"int32\",\"order\":\"little\"}],[\"genotype\",{\"type\":\"ndarray\",\"array\":[\"dl1/+ ; dl-venus/+\",\"dl1/+ ; dl-venus/+\",\"dl1/+ ; dl-venus/+\",\"dl1/+ ; dl-venus/+\",\"dl1/+ ; dl-venus/+\",\"dl1/+ ; dl-venus/+\",\"dl1/+ ; dl-venus/+\",\"dl1/+ ; dl-venus/+\",\"dl1/+ ; dl-venus/+\",\"dl1/+ ; dl-venus/+\",\"dl1/+ ; dl-venus/+\",\"dl1/+ ; dl-venus/+\",\"dl1/+ ; dl-venus/+\",\"dl1/+ ; dl-venus/+\",\"dl1/+ ; dl-venus/+\",\"dl1/+ ; dl-venus/+\",\"dl1/+ ; dl-venus/+\",\"dl1/+ ; dl-venus/+\",\"dl1/+ ; dl-venus/+\",\"dl1/+ ; dl-venus/+\",\"dl1/+ ; dl-venus/+\",\"dl1/+ ; dl-venus/+\",\"dl1/+ ; dl-venus/+\",\"dl1/+ ; dl-venus/+\",\"dl1/+ ; dl-venus/+\",\"dl1/+ ; dl-venus/+\",\"dl1/+ ; dl-venus/+\",\"dl1/+ ; dl-venus/+\",\"dl1/+ ; dl-venus/+\",\"dl1/+ ; dl-venus/+\",\"dl1/+ ; dl-venus/+\",\"dl1/+ ; dl-venus/+\",\"dl1/+ ; dl-venus/+\",\"dl1/+ ; dl-venus/+\",\"dl1/+ ; dl-venus/+\",\"dl1/+ ; dl-venus/+\",\"dl1/+ ; dl-venus/+\",\"dl1/+ ; dl-venus/+\",\"dl1/+ ; dl-venus/+\",\"dl1/+ ; dl-venus/+\",\"dl1/+ ; dl-venus/+\",\"dl1/+ ; dl-venus/+\",\"dl1/+ ; dl-venus/+\",\"dl1/+ ; dl-venus/+\",\"dl1/+ ; dl-venus/+\",\"dl1/+ ; dl-venus/+\",\"dl1/+ ; dl-venus/+\",\"dl1/+ ; dl-venus/+\",\"dl1/+ ; dl-venus/+\",\"dl1/+ ; dl-venus/+\",\"dl1/+ ; dl-venus/+\",\"dl1/+ ; dl-venus/+\",\"dl1/+ ; dl-venus/+\",\"dl1/+ ; dl-venus/+\",\"dl1/+ ; dl-venus/+\",\"dl1/+ ; dl-venus/+\",\"dl1/+ ; dl-venus/+\",\"dl1/+ ; dl-venus/+\",\"dl1/+ ; dl-venus/+\",\"dl1/+ ; dl-venus/+\",\"dl1/+ ; dl-venus/+\"],\"shape\":[61],\"dtype\":\"object\",\"order\":\"little\"}],[\"method\",{\"type\":\"ndarray\",\"array\":[\"anti-Dorsal\",\"anti-Dorsal\",\"anti-Dorsal\",\"anti-Dorsal\",\"anti-Dorsal\",\"anti-Dorsal\",\"anti-Dorsal\",\"anti-Dorsal\",\"anti-Dorsal\",\"anti-Dorsal\",\"anti-Dorsal\",\"anti-Dorsal\",\"anti-Dorsal\",\"anti-Dorsal\",\"anti-Dorsal\",\"anti-Dorsal\",\"anti-Dorsal\",\"anti-Dorsal\",\"anti-Dorsal\",\"anti-Dorsal\",\"anti-Dorsal\",\"anti-Dorsal\",\"anti-Dorsal\",\"anti-Dorsal\",\"anti-Dorsal\",\"anti-Dorsal\",\"anti-Dorsal\",\"anti-Dorsal\",\"anti-Dorsal\",\"anti-Venus\",\"anti-Venus\",\"anti-Venus\",\"anti-Venus\",\"anti-Venus\",\"anti-Venus\",\"anti-Venus\",\"anti-Venus\",\"anti-Venus\",\"anti-Venus\",\"anti-Venus\",\"anti-Venus\",\"anti-Venus\",\"anti-Venus\",\"anti-Venus\",\"anti-Venus\",\"anti-Venus\",\"anti-Venus\",\"anti-Venus\",\"anti-Venus\",\"anti-Venus\",\"anti-Venus\",\"anti-Venus\",\"anti-Venus\",\"anti-Venus\",\"anti-Venus\",\"anti-Venus\",\"anti-Venus\",\"anti-Venus\",\"Venus (live)\",\"Venus (live)\",\"Venus (live)\"],\"shape\":[61],\"dtype\":\"object\",\"order\":\"little\"}],[\"gradient width\",{\"type\":\"ndarray\",\"array\":{\"type\":\"bytes\",\"data\":\"H4sIAAEAAAAC/5tjvGiL+Y9D9mdivU+w2x62t1L2qm7WP2I/30bnyqxnR+1Zj/YblusetF8RfsroyMZj9rnPf6/8eOmofWSbxbWjuUfsmSu4VTTqjtgXnOu4dO/BYftCW67riwuO2tfftK2MWHHU/uvt643Fbkfst4r+Pv3u5GF7VbbGqc7dR+w7voAkjtmf/x78eOnsI/YZm18VbxU9bO+zjMtNtfSQ/bob8WX+csfsA7Nnlc9ZdNh+4/4382x0jth7gy0+ai8VeEu6JvGQveuND1+8Io/Zb9LLW8y456i9+M1zQBOP2oNsyXl+2J7Rt4XXfz3Qvtaoy3seH7H3Xz8ltSP5qP2T5nlnV50/an9rza+Y3KPH7FWm/59Q9/uQff+TT/KX8o/b/7YC+eiYva6i/JecsKP2SQIRlltOHLPfsZ75eY/GUXs2IRH7Y3cQ4kLNB04tdD1m3yWf/C7K6Zh9fiMLMOSO2yeDA+IEXJ1LZv6H1pOI8PqX+v1J4sJjcH/1eL1iMRE8Zs+0hxVkg32MguPH5DNH7bO1v02/O/m4fdaekskSLMfswdGieNz+pYfef8W/x+yNnq1TfdJ8zH7p3oPiasFH7Rkm1gG9gIgvAHu713foAQAA\"},\"shape\":[61],\"dtype\":\"float64\",\"order\":\"little\"}],[\"cat\",{\"type\":\"ndarray\",\"array\":[[\"dl1/+ ; dl-venus/+\",\"anti-Dorsal\"],[\"dl1/+ ; dl-venus/+\",\"anti-Dorsal\"],[\"dl1/+ ; dl-venus/+\",\"anti-Dorsal\"],[\"dl1/+ ; dl-venus/+\",\"anti-Dorsal\"],[\"dl1/+ ; dl-venus/+\",\"anti-Dorsal\"],[\"dl1/+ ; dl-venus/+\",\"anti-Dorsal\"],[\"dl1/+ ; dl-venus/+\",\"anti-Dorsal\"],[\"dl1/+ ; dl-venus/+\",\"anti-Dorsal\"],[\"dl1/+ ; dl-venus/+\",\"anti-Dorsal\"],[\"dl1/+ ; dl-venus/+\",\"anti-Dorsal\"],[\"dl1/+ ; dl-venus/+\",\"anti-Dorsal\"],[\"dl1/+ ; dl-venus/+\",\"anti-Dorsal\"],[\"dl1/+ ; dl-venus/+\",\"anti-Dorsal\"],[\"dl1/+ ; dl-venus/+\",\"anti-Dorsal\"],[\"dl1/+ ; dl-venus/+\",\"anti-Dorsal\"],[\"dl1/+ ; dl-venus/+\",\"anti-Dorsal\"],[\"dl1/+ ; dl-venus/+\",\"anti-Dorsal\"],[\"dl1/+ ; dl-venus/+\",\"anti-Dorsal\"],[\"dl1/+ ; dl-venus/+\",\"anti-Dorsal\"],[\"dl1/+ ; dl-venus/+\",\"anti-Dorsal\"],[\"dl1/+ ; dl-venus/+\",\"anti-Dorsal\"],[\"dl1/+ ; dl-venus/+\",\"anti-Dorsal\"],[\"dl1/+ ; dl-venus/+\",\"anti-Dorsal\"],[\"dl1/+ ; dl-venus/+\",\"anti-Dorsal\"],[\"dl1/+ ; dl-venus/+\",\"anti-Dorsal\"],[\"dl1/+ ; dl-venus/+\",\"anti-Dorsal\"],[\"dl1/+ ; dl-venus/+\",\"anti-Dorsal\"],[\"dl1/+ ; dl-venus/+\",\"anti-Dorsal\"],[\"dl1/+ ; dl-venus/+\",\"anti-Dorsal\"],[\"dl1/+ ; dl-venus/+\",\"anti-Venus\"],[\"dl1/+ ; dl-venus/+\",\"anti-Venus\"],[\"dl1/+ ; dl-venus/+\",\"anti-Venus\"],[\"dl1/+ ; dl-venus/+\",\"anti-Venus\"],[\"dl1/+ ; dl-venus/+\",\"anti-Venus\"],[\"dl1/+ ; dl-venus/+\",\"anti-Venus\"],[\"dl1/+ ; dl-venus/+\",\"anti-Venus\"],[\"dl1/+ ; dl-venus/+\",\"anti-Venus\"],[\"dl1/+ ; dl-venus/+\",\"anti-Venus\"],[\"dl1/+ ; dl-venus/+\",\"anti-Venus\"],[\"dl1/+ ; dl-venus/+\",\"anti-Venus\"],[\"dl1/+ ; dl-venus/+\",\"anti-Venus\"],[\"dl1/+ ; dl-venus/+\",\"anti-Venus\"],[\"dl1/+ ; dl-venus/+\",\"anti-Venus\"],[\"dl1/+ ; dl-venus/+\",\"anti-Venus\"],[\"dl1/+ ; dl-venus/+\",\"anti-Venus\"],[\"dl1/+ ; dl-venus/+\",\"anti-Venus\"],[\"dl1/+ ; dl-venus/+\",\"anti-Venus\"],[\"dl1/+ ; dl-venus/+\",\"anti-Venus\"],[\"dl1/+ ; dl-venus/+\",\"anti-Venus\"],[\"dl1/+ ; dl-venus/+\",\"anti-Venus\"],[\"dl1/+ ; dl-venus/+\",\"anti-Venus\"],[\"dl1/+ ; dl-venus/+\",\"anti-Venus\"],[\"dl1/+ ; dl-venus/+\",\"anti-Venus\"],[\"dl1/+ ; dl-venus/+\",\"anti-Venus\"],[\"dl1/+ ; dl-venus/+\",\"anti-Venus\"],[\"dl1/+ ; dl-venus/+\",\"anti-Venus\"],[\"dl1/+ ; dl-venus/+\",\"anti-Venus\"],[\"dl1/+ ; dl-venus/+\",\"anti-Venus\"],[\"dl1/+ ; dl-venus/+\",\"Venus (live)\"],[\"dl1/+ ; dl-venus/+\",\"Venus (live)\"],[\"dl1/+ ; dl-venus/+\",\"Venus (live)\"]],\"shape\":[61],\"dtype\":\"object\",\"order\":\"little\"}],[\"__label\",{\"type\":\"ndarray\",\"array\":[\"dl1/+ ; dl-venus/+\",\"dl1/+ ; dl-venus/+\",\"dl1/+ ; dl-venus/+\",\"dl1/+ ; dl-venus/+\",\"dl1/+ ; dl-venus/+\",\"dl1/+ ; dl-venus/+\",\"dl1/+ ; dl-venus/+\",\"dl1/+ ; dl-venus/+\",\"dl1/+ ; dl-venus/+\",\"dl1/+ ; dl-venus/+\",\"dl1/+ ; dl-venus/+\",\"dl1/+ ; dl-venus/+\",\"dl1/+ ; dl-venus/+\",\"dl1/+ ; dl-venus/+\",\"dl1/+ ; dl-venus/+\",\"dl1/+ ; dl-venus/+\",\"dl1/+ ; dl-venus/+\",\"dl1/+ ; dl-venus/+\",\"dl1/+ ; dl-venus/+\",\"dl1/+ ; dl-venus/+\",\"dl1/+ ; dl-venus/+\",\"dl1/+ ; dl-venus/+\",\"dl1/+ ; dl-venus/+\",\"dl1/+ ; dl-venus/+\",\"dl1/+ ; dl-venus/+\",\"dl1/+ ; dl-venus/+\",\"dl1/+ ; dl-venus/+\",\"dl1/+ ; dl-venus/+\",\"dl1/+ ; dl-venus/+\",\"dl1/+ ; dl-venus/+\",\"dl1/+ ; dl-venus/+\",\"dl1/+ ; dl-venus/+\",\"dl1/+ ; dl-venus/+\",\"dl1/+ ; dl-venus/+\",\"dl1/+ ; dl-venus/+\",\"dl1/+ ; dl-venus/+\",\"dl1/+ ; dl-venus/+\",\"dl1/+ ; dl-venus/+\",\"dl1/+ ; dl-venus/+\",\"dl1/+ ; dl-venus/+\",\"dl1/+ ; dl-venus/+\",\"dl1/+ ; dl-venus/+\",\"dl1/+ ; dl-venus/+\",\"dl1/+ ; dl-venus/+\",\"dl1/+ ; dl-venus/+\",\"dl1/+ ; dl-venus/+\",\"dl1/+ ; dl-venus/+\",\"dl1/+ ; dl-venus/+\",\"dl1/+ ; dl-venus/+\",\"dl1/+ ; dl-venus/+\",\"dl1/+ ; dl-venus/+\",\"dl1/+ ; dl-venus/+\",\"dl1/+ ; dl-venus/+\",\"dl1/+ ; dl-venus/+\",\"dl1/+ ; dl-venus/+\",\"dl1/+ ; dl-venus/+\",\"dl1/+ ; dl-venus/+\",\"dl1/+ ; dl-venus/+\",\"dl1/+ ; dl-venus/+\",\"dl1/+ ; dl-venus/+\",\"dl1/+ ; dl-venus/+\"],\"shape\":[61],\"dtype\":\"object\",\"order\":\"little\"}]]}}},\"view\":{\"type\":\"object\",\"name\":\"CDSView\",\"id\":\"p1078\",\"attributes\":{\"filter\":{\"type\":\"object\",\"name\":\"AllIndices\",\"id\":\"p1079\"}}},\"glyph\":{\"type\":\"object\",\"name\":\"Scatter\",\"id\":\"p1074\",\"attributes\":{\"x\":{\"type\":\"field\",\"field\":\"gradient width\"},\"y\":{\"type\":\"field\",\"field\":\"cat\",\"transform\":{\"id\":\"p1043\"}},\"line_color\":{\"type\":\"value\",\"value\":\"#2ba02b\"},\"fill_color\":{\"type\":\"value\",\"value\":\"#2ba02b\"},\"hatch_color\":{\"type\":\"value\",\"value\":\"#2ba02b\"}}},\"nonselection_glyph\":{\"type\":\"object\",\"name\":\"Scatter\",\"id\":\"p1075\",\"attributes\":{\"x\":{\"type\":\"field\",\"field\":\"gradient width\"},\"y\":{\"type\":\"field\",\"field\":\"cat\",\"transform\":{\"id\":\"p1043\"}},\"line_color\":{\"type\":\"value\",\"value\":\"#2ba02b\"},\"line_alpha\":{\"type\":\"value\",\"value\":0.1},\"fill_color\":{\"type\":\"value\",\"value\":\"#2ba02b\"},\"fill_alpha\":{\"type\":\"value\",\"value\":0.1},\"hatch_color\":{\"type\":\"value\",\"value\":\"#2ba02b\"},\"hatch_alpha\":{\"type\":\"value\",\"value\":0.1}}},\"muted_glyph\":{\"type\":\"object\",\"name\":\"Scatter\",\"id\":\"p1076\",\"attributes\":{\"x\":{\"type\":\"field\",\"field\":\"gradient width\"},\"y\":{\"type\":\"field\",\"field\":\"cat\",\"transform\":{\"id\":\"p1043\"}},\"line_color\":{\"type\":\"value\",\"value\":\"#2ba02b\"},\"line_alpha\":{\"type\":\"value\",\"value\":0.2},\"fill_color\":{\"type\":\"value\",\"value\":\"#2ba02b\"},\"fill_alpha\":{\"type\":\"value\",\"value\":0.2},\"hatch_color\":{\"type\":\"value\",\"value\":\"#2ba02b\"},\"hatch_alpha\":{\"type\":\"value\",\"value\":0.2}}}}}],\"toolbar\":{\"type\":\"object\",\"name\":\"Toolbar\",\"id\":\"p1017\",\"attributes\":{\"tools\":[{\"type\":\"object\",\"name\":\"PanTool\",\"id\":\"p1030\"},{\"type\":\"object\",\"name\":\"WheelZoomTool\",\"id\":\"p1031\",\"attributes\":{\"renderers\":\"auto\"}},{\"type\":\"object\",\"name\":\"BoxZoomTool\",\"id\":\"p1032\",\"attributes\":{\"dimensions\":\"both\",\"overlay\":{\"type\":\"object\",\"name\":\"BoxAnnotation\",\"id\":\"p1033\",\"attributes\":{\"syncable\":false,\"line_color\":\"black\",\"line_alpha\":1.0,\"line_width\":2,\"line_dash\":[4,4],\"fill_color\":\"lightgrey\",\"fill_alpha\":0.5,\"level\":\"overlay\",\"visible\":false,\"left\":{\"type\":\"number\",\"value\":\"nan\"},\"right\":{\"type\":\"number\",\"value\":\"nan\"},\"top\":{\"type\":\"number\",\"value\":\"nan\"},\"bottom\":{\"type\":\"number\",\"value\":\"nan\"},\"left_units\":\"canvas\",\"right_units\":\"canvas\",\"top_units\":\"canvas\",\"bottom_units\":\"canvas\",\"handles\":{\"type\":\"object\",\"name\":\"BoxInteractionHandles\",\"id\":\"p1039\",\"attributes\":{\"all\":{\"type\":\"object\",\"name\":\"AreaVisuals\",\"id\":\"p1038\",\"attributes\":{\"fill_color\":\"white\",\"hover_fill_color\":\"lightgray\"}}}}}}}},{\"type\":\"object\",\"name\":\"SaveTool\",\"id\":\"p1040\"},{\"type\":\"object\",\"name\":\"ResetTool\",\"id\":\"p1041\"},{\"type\":\"object\",\"name\":\"HelpTool\",\"id\":\"p1042\"}]}},\"toolbar_location\":\"above\",\"left\":[{\"type\":\"object\",\"name\":\"CategoricalAxis\",\"id\":\"p1025\",\"attributes\":{\"ticker\":{\"type\":\"object\",\"name\":\"CategoricalTicker\",\"id\":\"p1026\"},\"formatter\":{\"type\":\"object\",\"name\":\"CategoricalTickFormatter\",\"id\":\"p1027\"},\"major_label_policy\":{\"type\":\"object\",\"name\":\"AllLabels\",\"id\":\"p1028\"}}}],\"right\":[{\"type\":\"object\",\"name\":\"Legend\",\"id\":\"p1080\",\"attributes\":{\"location\":\"center\",\"title\":\"genotype\",\"click_policy\":\"hide\",\"items\":[{\"type\":\"object\",\"name\":\"LegendItem\",\"id\":\"p1081\",\"attributes\":{\"label\":{\"type\":\"value\",\"value\":\"WT\"},\"renderers\":[{\"id\":\"p1053\"}]}},{\"type\":\"object\",\"name\":\"LegendItem\",\"id\":\"p1082\",\"attributes\":{\"label\":{\"type\":\"value\",\"value\":\"dl1/+ ; dl-gfp/+\"},\"renderers\":[{\"id\":\"p1065\"}]}},{\"type\":\"object\",\"name\":\"LegendItem\",\"id\":\"p1083\",\"attributes\":{\"label\":{\"type\":\"value\",\"value\":\"dl1/+ ; dl-venus/+\"},\"renderers\":[{\"id\":\"p1077\"}]}}]}}],\"below\":[{\"type\":\"object\",\"name\":\"LinearAxis\",\"id\":\"p1020\",\"attributes\":{\"ticker\":{\"type\":\"object\",\"name\":\"BasicTicker\",\"id\":\"p1021\",\"attributes\":{\"mantissas\":[1,2,5]}},\"formatter\":{\"type\":\"object\",\"name\":\"BasicTickFormatter\",\"id\":\"p1022\"},\"axis_label\":\"gradient width\",\"major_label_policy\":{\"type\":\"object\",\"name\":\"AllLabels\",\"id\":\"p1023\"}}}],\"center\":[{\"type\":\"object\",\"name\":\"Grid\",\"id\":\"p1024\",\"attributes\":{\"axis\":{\"id\":\"p1020\"}}},{\"type\":\"object\",\"name\":\"Grid\",\"id\":\"p1029\",\"attributes\":{\"dimension\":1,\"axis\":{\"id\":\"p1025\"},\"grid_line_color\":null}}],\"frame_width\":450,\"frame_height\":350}}]}};\n  const render_items = [{\"docid\":\"4123e804-06eb-4c5c-99e6-43fcde4f5b67\",\"roots\":{\"p1009\":\"f01ec857-f89d-4698-a40a-cf12802f2c4b\"},\"root_ids\":[\"p1009\"]}];\n  void root.Bokeh.embed.embed_items_notebook(docs_json, render_items);\n  }\n  if (root.Bokeh !== undefined) {\n    embed_document(root);\n  } else {\n    let attempts = 0;\n    const timer = setInterval(function(root) {\n      if (root.Bokeh !== undefined) {\n        clearInterval(timer);\n        embed_document(root);\n      } else {\n        attempts++;\n        if (attempts > 100) {\n          clearInterval(timer);\n          console.log(\"Bokeh: ERROR: Unable to run BokehJS code because BokehJS library is missing\");\n        }\n      }\n    }, 10, root)\n  }\n})(window);",
      "application/vnd.bokehjs_exec.v0+json": ""
     },
     "metadata": {
      "application/vnd.bokehjs_exec.v0+json": {
       "id": "p1009"
      }
     },
     "output_type": "display_data"
    }
   ],
   "source": [
    "p = iqplot.strip(\n",
    "    data=df,\n",
    "    q='gradient width',\n",
    "    cats=['genotype', 'method'],\n",
    "    color_column='genotype',\n",
    "    spread=\"jitter\",\n",
    "    frame_height=350,\n",
    "    frame_width=450,\n",
    ")\n",
    "\n",
    "bokeh.io.show(p)"
   ]
  },
  {
   "cell_type": "markdown",
   "metadata": {},
   "source": [
    "## Computing environment"
   ]
  },
  {
   "cell_type": "code",
   "execution_count": 8,
   "metadata": {},
   "outputs": [
    {
     "name": "stdout",
     "output_type": "stream",
     "text": [
      "Python implementation: CPython\n",
      "Python version       : 3.13.7\n",
      "IPython version      : 9.5.0\n",
      "\n",
      "polars    : 1.33.1\n",
      "bokeh     : 3.8.0\n",
      "iqplot    : 0.3.7\n",
      "jupyterlab: 4.4.7\n",
      "\n"
     ]
    }
   ],
   "source": [
    "%load_ext watermark\n",
    "%watermark -v -p polars,bokeh,iqplot,jupyterlab"
   ]
  }
 ],
 "metadata": {
  "kernelspec": {
   "display_name": "default",
   "language": "python",
   "name": "python3"
  },
  "language_info": {
   "codemirror_mode": {
    "name": "ipython",
    "version": 3
   },
   "file_extension": ".py",
   "mimetype": "text/x-python",
   "name": "python",
   "nbconvert_exporter": "python",
   "pygments_lexer": "ipython3",
   "version": "3.13.7"
  }
 },
 "nbformat": 4,
 "nbformat_minor": 4
}
